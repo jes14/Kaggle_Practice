{
 "cells": [
  {
   "cell_type": "code",
   "execution_count": 32,
   "metadata": {
    "collapsed": false
   },
   "outputs": [],
   "source": [
    "import pandas as pd\n",
    "import numpy as np\n",
    "import seaborn as sns\n",
    "import matplotlib.pyplot as plt\n",
    "import pandas as pd\n",
    "%matplotlib inline"
   ]
  },
  {
   "cell_type": "code",
   "execution_count": 33,
   "metadata": {
    "collapsed": false
   },
   "outputs": [
    {
     "data": {
      "text/html": [
       "<div>\n",
       "<table border=\"1\" class=\"dataframe\">\n",
       "  <thead>\n",
       "    <tr style=\"text-align: right;\">\n",
       "      <th></th>\n",
       "      <th>﻿stop_id</th>\n",
       "      <th>stop_name</th>\n",
       "      <th>stop_lat</th>\n",
       "      <th>stop_lon</th>\n",
       "      <th>stop_url</th>\n",
       "      <th>location_type</th>\n",
       "      <th>parent_station</th>\n",
       "    </tr>\n",
       "  </thead>\n",
       "  <tbody>\n",
       "    <tr>\n",
       "      <th>0</th>\n",
       "      <td>1101064</td>\n",
       "      <td>Malpensa Aeroporto, terminal 1</td>\n",
       "      <td>45.627214</td>\n",
       "      <td>8.711116</td>\n",
       "      <td>NaN</td>\n",
       "      <td>NaN</td>\n",
       "      <td>NaN</td>\n",
       "    </tr>\n",
       "    <tr>\n",
       "      <th>1</th>\n",
       "      <td>8014422</td>\n",
       "      <td>Efringen-Kirchen</td>\n",
       "      <td>47.655618</td>\n",
       "      <td>7.563914</td>\n",
       "      <td>NaN</td>\n",
       "      <td>NaN</td>\n",
       "      <td>NaN</td>\n",
       "    </tr>\n",
       "    <tr>\n",
       "      <th>2</th>\n",
       "      <td>8014423</td>\n",
       "      <td>Eimeldingen</td>\n",
       "      <td>47.627946</td>\n",
       "      <td>7.595606</td>\n",
       "      <td>NaN</td>\n",
       "      <td>NaN</td>\n",
       "      <td>NaN</td>\n",
       "    </tr>\n",
       "    <tr>\n",
       "      <th>3</th>\n",
       "      <td>8014424</td>\n",
       "      <td>Haltingen</td>\n",
       "      <td>47.612839</td>\n",
       "      <td>7.611677</td>\n",
       "      <td>NaN</td>\n",
       "      <td>NaN</td>\n",
       "      <td>NaN</td>\n",
       "    </tr>\n",
       "    <tr>\n",
       "      <th>4</th>\n",
       "      <td>8014428</td>\n",
       "      <td>Weil am Rhein</td>\n",
       "      <td>47.593965</td>\n",
       "      <td>7.608416</td>\n",
       "      <td>NaN</td>\n",
       "      <td>NaN</td>\n",
       "      <td>NaN</td>\n",
       "    </tr>\n",
       "  </tbody>\n",
       "</table>\n",
       "</div>"
      ],
      "text/plain": [
       "   ﻿stop_id                       stop_name   stop_lat  stop_lon  stop_url  \\\n",
       "0   1101064  Malpensa Aeroporto, terminal 1  45.627214  8.711116       NaN   \n",
       "1   8014422                Efringen-Kirchen  47.655618  7.563914       NaN   \n",
       "2   8014423                     Eimeldingen  47.627946  7.595606       NaN   \n",
       "3   8014424                       Haltingen  47.612839  7.611677       NaN   \n",
       "4   8014428                   Weil am Rhein  47.593965  7.608416       NaN   \n",
       "\n",
       "   location_type  parent_station  \n",
       "0            NaN             NaN  \n",
       "1            NaN             NaN  \n",
       "2            NaN             NaN  \n",
       "3            NaN             NaN  \n",
       "4            NaN             NaN  "
      ]
     },
     "execution_count": 33,
     "metadata": {},
     "output_type": "execute_result"
    }
   ],
   "source": [
    "stops_df = pd.read_csv('stops.csv')\n",
    "stops_df.head()"
   ]
  },
  {
   "cell_type": "code",
   "execution_count": 45,
   "metadata": {
    "collapsed": false
   },
   "outputs": [
    {
     "data": {
      "text/html": [
       "<div>\n",
       "<table border=\"1\" class=\"dataframe\">\n",
       "  <thead>\n",
       "    <tr style=\"text-align: right;\">\n",
       "      <th></th>\n",
       "      <th>﻿stop_id</th>\n",
       "      <th>stop_name</th>\n",
       "      <th>stop_lat</th>\n",
       "      <th>stop_lon</th>\n",
       "      <th>stop_url</th>\n",
       "      <th>location_type</th>\n",
       "      <th>parent_station</th>\n",
       "    </tr>\n",
       "  </thead>\n",
       "  <tbody>\n",
       "    <tr>\n",
       "      <th>22706</th>\n",
       "      <td>8771861</td>\n",
       "      <td>Morteau</td>\n",
       "      <td>47.053726</td>\n",
       "      <td>6.604872</td>\n",
       "      <td>NaN</td>\n",
       "      <td>NaN</td>\n",
       "      <td>NaN</td>\n",
       "    </tr>\n",
       "    <tr>\n",
       "      <th>22707</th>\n",
       "      <td>8774500</td>\n",
       "      <td>Bellegarde (Ain)</td>\n",
       "      <td>46.110920</td>\n",
       "      <td>5.825970</td>\n",
       "      <td>NaN</td>\n",
       "      <td>NaN</td>\n",
       "      <td>NaN</td>\n",
       "    </tr>\n",
       "    <tr>\n",
       "      <th>22708</th>\n",
       "      <td>8774538</td>\n",
       "      <td>Pougny-Chancy</td>\n",
       "      <td>46.146082</td>\n",
       "      <td>5.961157</td>\n",
       "      <td>NaN</td>\n",
       "      <td>NaN</td>\n",
       "      <td>NaN</td>\n",
       "    </tr>\n",
       "    <tr>\n",
       "      <th>22709</th>\n",
       "      <td>8774687</td>\n",
       "      <td>Vallorcine (F)</td>\n",
       "      <td>46.033405</td>\n",
       "      <td>6.933988</td>\n",
       "      <td>NaN</td>\n",
       "      <td>NaN</td>\n",
       "      <td>NaN</td>\n",
       "    </tr>\n",
       "    <tr>\n",
       "      <th>22710</th>\n",
       "      <td>8776100</td>\n",
       "      <td>Valence-Ville</td>\n",
       "      <td>44.927652</td>\n",
       "      <td>4.893474</td>\n",
       "      <td>NaN</td>\n",
       "      <td>NaN</td>\n",
       "      <td>NaN</td>\n",
       "    </tr>\n",
       "  </tbody>\n",
       "</table>\n",
       "</div>"
      ],
      "text/plain": [
       "       ﻿stop_id         stop_name   stop_lat  stop_lon  stop_url  \\\n",
       "22706   8771861           Morteau  47.053726  6.604872       NaN   \n",
       "22707   8774500  Bellegarde (Ain)  46.110920  5.825970       NaN   \n",
       "22708   8774538     Pougny-Chancy  46.146082  5.961157       NaN   \n",
       "22709   8774687    Vallorcine (F)  46.033405  6.933988       NaN   \n",
       "22710   8776100     Valence-Ville  44.927652  4.893474       NaN   \n",
       "\n",
       "       location_type  parent_station  \n",
       "22706            NaN             NaN  \n",
       "22707            NaN             NaN  \n",
       "22708            NaN             NaN  \n",
       "22709            NaN             NaN  \n",
       "22710            NaN             NaN  "
      ]
     },
     "execution_count": 45,
     "metadata": {},
     "output_type": "execute_result"
    }
   ],
   "source": [
    "stops_df.tail()"
   ]
  },
  {
   "cell_type": "code",
   "execution_count": 47,
   "metadata": {
    "collapsed": false
   },
   "outputs": [
    {
     "data": {
      "text/plain": [
       "(22711, 7)"
      ]
     },
     "execution_count": 47,
     "metadata": {},
     "output_type": "execute_result"
    }
   ],
   "source": [
    "stops_df.shape"
   ]
  },
  {
   "cell_type": "code",
   "execution_count": 48,
   "metadata": {
    "collapsed": false
   },
   "outputs": [
    {
     "data": {
      "text/plain": [
       "﻿stop_id          22711\n",
       "stop_name         22711\n",
       "stop_lat          22711\n",
       "stop_lon          22711\n",
       "stop_url              0\n",
       "location_type         0\n",
       "parent_station        0\n",
       "dtype: int64"
      ]
     },
     "execution_count": 48,
     "metadata": {},
     "output_type": "execute_result"
    }
   ],
   "source": [
    "stops_df.notnull().sum()"
   ]
  },
  {
   "cell_type": "code",
   "execution_count": 49,
   "metadata": {
    "collapsed": false
   },
   "outputs": [
    {
     "data": {
      "text/plain": [
       "﻿stop_id          100.0\n",
       "stop_name         100.0\n",
       "stop_lat          100.0\n",
       "stop_lon          100.0\n",
       "stop_url            0.0\n",
       "location_type       0.0\n",
       "parent_station      0.0\n",
       "dtype: float64"
      ]
     },
     "execution_count": 49,
     "metadata": {},
     "output_type": "execute_result"
    }
   ],
   "source": [
    "stops_df.notnull().sum() * 100/stops_df.shape[0]"
   ]
  },
  {
   "cell_type": "code",
   "execution_count": 50,
   "metadata": {
    "collapsed": false
   },
   "outputs": [
    {
     "data": {
      "text/plain": [
       "22711"
      ]
     },
     "execution_count": 50,
     "metadata": {},
     "output_type": "execute_result"
    }
   ],
   "source": [
    "len(stops_df.stop_name.unique())"
   ]
  },
  {
   "cell_type": "code",
   "execution_count": null,
   "metadata": {
    "collapsed": true
   },
   "outputs": [],
   "source": []
  },
  {
   "cell_type": "code",
   "execution_count": 40,
   "metadata": {
    "collapsed": false
   },
   "outputs": [
    {
     "name": "stdout",
     "output_type": "stream",
     "text": [
      "<class 'pandas.core.frame.DataFrame'>\n",
      "RangeIndex: 22711 entries, 0 to 22710\n",
      "Data columns (total 7 columns):\n",
      "﻿stop_id          22711 non-null int64\n",
      "stop_name         22711 non-null object\n",
      "stop_lat          22711 non-null float64\n",
      "stop_lon          22711 non-null float64\n",
      "stop_url          0 non-null float64\n",
      "location_type     0 non-null float64\n",
      "parent_station    0 non-null float64\n",
      "dtypes: float64(5), int64(1), object(1)\n",
      "memory usage: 1.2+ MB\n"
     ]
    }
   ],
   "source": [
    "stops_df.info()"
   ]
  },
  {
   "cell_type": "code",
   "execution_count": null,
   "metadata": {
    "collapsed": false
   },
   "outputs": [],
   "source": []
  },
  {
   "cell_type": "code",
   "execution_count": 39,
   "metadata": {
    "collapsed": false
   },
   "outputs": [
    {
     "data": {
      "text/html": [
       "<div>\n",
       "<table border=\"1\" class=\"dataframe\">\n",
       "  <thead>\n",
       "    <tr style=\"text-align: right;\">\n",
       "      <th></th>\n",
       "      <th>stop_name</th>\n",
       "      <th>stop_lat</th>\n",
       "      <th>stop_lon</th>\n",
       "    </tr>\n",
       "  </thead>\n",
       "  <tbody>\n",
       "    <tr>\n",
       "      <th>0</th>\n",
       "      <td>Malpensa Aeroporto, terminal 1</td>\n",
       "      <td>45.627214</td>\n",
       "      <td>8.711116</td>\n",
       "    </tr>\n",
       "    <tr>\n",
       "      <th>1</th>\n",
       "      <td>Efringen-Kirchen</td>\n",
       "      <td>47.655618</td>\n",
       "      <td>7.563914</td>\n",
       "    </tr>\n",
       "    <tr>\n",
       "      <th>2</th>\n",
       "      <td>Eimeldingen</td>\n",
       "      <td>47.627946</td>\n",
       "      <td>7.595606</td>\n",
       "    </tr>\n",
       "    <tr>\n",
       "      <th>3</th>\n",
       "      <td>Haltingen</td>\n",
       "      <td>47.612839</td>\n",
       "      <td>7.611677</td>\n",
       "    </tr>\n",
       "    <tr>\n",
       "      <th>4</th>\n",
       "      <td>Weil am Rhein</td>\n",
       "      <td>47.593965</td>\n",
       "      <td>7.608416</td>\n",
       "    </tr>\n",
       "    <tr>\n",
       "      <th>5</th>\n",
       "      <td>Weil am Rhein-Ost</td>\n",
       "      <td>47.590633</td>\n",
       "      <td>7.634782</td>\n",
       "    </tr>\n",
       "    <tr>\n",
       "      <th>6</th>\n",
       "      <td>Riehen</td>\n",
       "      <td>47.583157</td>\n",
       "      <td>7.652011</td>\n",
       "    </tr>\n",
       "    <tr>\n",
       "      <th>7</th>\n",
       "      <td>Lörrach-Stetten</td>\n",
       "      <td>47.601416</td>\n",
       "      <td>7.659036</td>\n",
       "    </tr>\n",
       "    <tr>\n",
       "      <th>8</th>\n",
       "      <td>Lörrach Hbf</td>\n",
       "      <td>47.614050</td>\n",
       "      <td>7.665423</td>\n",
       "    </tr>\n",
       "    <tr>\n",
       "      <th>9</th>\n",
       "      <td>Lörrach Haagen/Messe</td>\n",
       "      <td>47.633231</td>\n",
       "      <td>7.680892</td>\n",
       "    </tr>\n",
       "  </tbody>\n",
       "</table>\n",
       "</div>"
      ],
      "text/plain": [
       "                        stop_name   stop_lat  stop_lon\n",
       "0  Malpensa Aeroporto, terminal 1  45.627214  8.711116\n",
       "1                Efringen-Kirchen  47.655618  7.563914\n",
       "2                     Eimeldingen  47.627946  7.595606\n",
       "3                       Haltingen  47.612839  7.611677\n",
       "4                   Weil am Rhein  47.593965  7.608416\n",
       "5               Weil am Rhein-Ost  47.590633  7.634782\n",
       "6                          Riehen  47.583157  7.652011\n",
       "7                 Lörrach-Stetten  47.601416  7.659036\n",
       "8                     Lörrach Hbf  47.614050  7.665423\n",
       "9            Lörrach Haagen/Messe  47.633231  7.680892"
      ]
     },
     "execution_count": 39,
     "metadata": {},
     "output_type": "execute_result"
    }
   ],
   "source": [
    "stops_df[['stop_name', 'stop_lat', 'stop_lon']][:10]"
   ]
  },
  {
   "cell_type": "code",
   "execution_count": null,
   "metadata": {
    "collapsed": false
   },
   "outputs": [],
   "source": []
  },
  {
   "cell_type": "code",
   "execution_count": null,
   "metadata": {
    "collapsed": true
   },
   "outputs": [],
   "source": []
  },
  {
   "cell_type": "code",
   "execution_count": 6,
   "metadata": {
    "collapsed": false
   },
   "outputs": [
    {
     "data": {
      "text/html": [
       "<div>\n",
       "<table border=\"1\" class=\"dataframe\">\n",
       "  <thead>\n",
       "    <tr style=\"text-align: right;\">\n",
       "      <th></th>\n",
       "      <th>agency_id</th>\n",
       "      <th>agency_name</th>\n",
       "      <th>agency_url</th>\n",
       "      <th>agency_timezone</th>\n",
       "      <th>agency_lang</th>\n",
       "      <th>agency_phone</th>\n",
       "    </tr>\n",
       "  </thead>\n",
       "  <tbody>\n",
       "    <tr>\n",
       "      <th>0</th>\n",
       "      <td>1</td>\n",
       "      <td>SBB</td>\n",
       "      <td>http://www.sbb.ch/</td>\n",
       "      <td>Europe/Berlin</td>\n",
       "      <td>DE</td>\n",
       "      <td>900300300</td>\n",
       "    </tr>\n",
       "  </tbody>\n",
       "</table>\n",
       "</div>"
      ],
      "text/plain": [
       "   agency_id agency_name          agency_url agency_timezone agency_lang  \\\n",
       "0          1         SBB  http://www.sbb.ch/   Europe/Berlin          DE   \n",
       "\n",
       "   agency_phone  \n",
       "0     900300300  "
      ]
     },
     "execution_count": 6,
     "metadata": {},
     "output_type": "execute_result"
    }
   ],
   "source": [
    "agency_df = pd.read_csv('agency.csv')\n",
    "agency_df.head()"
   ]
  },
  {
   "cell_type": "code",
   "execution_count": 8,
   "metadata": {
    "collapsed": false
   },
   "outputs": [
    {
     "data": {
      "text/html": [
       "<div>\n",
       "<table border=\"1\" class=\"dataframe\">\n",
       "  <thead>\n",
       "    <tr style=\"text-align: right;\">\n",
       "      <th></th>\n",
       "      <th>﻿service_id</th>\n",
       "      <th>monday</th>\n",
       "      <th>tuesday</th>\n",
       "      <th>wednesday</th>\n",
       "      <th>thursday</th>\n",
       "      <th>friday</th>\n",
       "      <th>saturday</th>\n",
       "      <th>sunday</th>\n",
       "      <th>start_date</th>\n",
       "      <th>end_date</th>\n",
       "    </tr>\n",
       "  </thead>\n",
       "  <tbody>\n",
       "    <tr>\n",
       "      <th>0</th>\n",
       "      <td>TA+b0h09</td>\n",
       "      <td>1</td>\n",
       "      <td>1</td>\n",
       "      <td>1</td>\n",
       "      <td>1</td>\n",
       "      <td>1</td>\n",
       "      <td>0</td>\n",
       "      <td>0</td>\n",
       "      <td>20161129</td>\n",
       "      <td>20161210</td>\n",
       "    </tr>\n",
       "    <tr>\n",
       "      <th>1</th>\n",
       "      <td>TA+b0h0b</td>\n",
       "      <td>1</td>\n",
       "      <td>1</td>\n",
       "      <td>1</td>\n",
       "      <td>1</td>\n",
       "      <td>1</td>\n",
       "      <td>1</td>\n",
       "      <td>1</td>\n",
       "      <td>20161129</td>\n",
       "      <td>20161210</td>\n",
       "    </tr>\n",
       "    <tr>\n",
       "      <th>2</th>\n",
       "      <td>TA+b0h0d</td>\n",
       "      <td>1</td>\n",
       "      <td>1</td>\n",
       "      <td>1</td>\n",
       "      <td>1</td>\n",
       "      <td>1</td>\n",
       "      <td>1</td>\n",
       "      <td>1</td>\n",
       "      <td>20161129</td>\n",
       "      <td>20161210</td>\n",
       "    </tr>\n",
       "    <tr>\n",
       "      <th>3</th>\n",
       "      <td>TA+b0h0e</td>\n",
       "      <td>1</td>\n",
       "      <td>1</td>\n",
       "      <td>1</td>\n",
       "      <td>1</td>\n",
       "      <td>1</td>\n",
       "      <td>1</td>\n",
       "      <td>1</td>\n",
       "      <td>20161129</td>\n",
       "      <td>20161210</td>\n",
       "    </tr>\n",
       "    <tr>\n",
       "      <th>4</th>\n",
       "      <td>TA+b0h0f</td>\n",
       "      <td>1</td>\n",
       "      <td>1</td>\n",
       "      <td>1</td>\n",
       "      <td>1</td>\n",
       "      <td>1</td>\n",
       "      <td>1</td>\n",
       "      <td>1</td>\n",
       "      <td>20161129</td>\n",
       "      <td>20161210</td>\n",
       "    </tr>\n",
       "  </tbody>\n",
       "</table>\n",
       "</div>"
      ],
      "text/plain": [
       "  ﻿service_id  monday  tuesday  wednesday  thursday  friday  saturday  sunday  \\\n",
       "0    TA+b0h09       1        1          1         1       1         0       0   \n",
       "1    TA+b0h0b       1        1          1         1       1         1       1   \n",
       "2    TA+b0h0d       1        1          1         1       1         1       1   \n",
       "3    TA+b0h0e       1        1          1         1       1         1       1   \n",
       "4    TA+b0h0f       1        1          1         1       1         1       1   \n",
       "\n",
       "   start_date  end_date  \n",
       "0    20161129  20161210  \n",
       "1    20161129  20161210  \n",
       "2    20161129  20161210  \n",
       "3    20161129  20161210  \n",
       "4    20161129  20161210  "
      ]
     },
     "execution_count": 8,
     "metadata": {},
     "output_type": "execute_result"
    }
   ],
   "source": [
    "calendar_df = pd.read_csv('calendar.csv')\n",
    "calendar_df.head()"
   ]
  },
  {
   "cell_type": "code",
   "execution_count": 70,
   "metadata": {
    "collapsed": false
   },
   "outputs": [
    {
     "data": {
      "text/html": [
       "<div>\n",
       "<table border=\"1\" class=\"dataframe\">\n",
       "  <thead>\n",
       "    <tr style=\"text-align: right;\">\n",
       "      <th></th>\n",
       "      <th>﻿service_id</th>\n",
       "      <th>monday</th>\n",
       "      <th>tuesday</th>\n",
       "      <th>wednesday</th>\n",
       "      <th>thursday</th>\n",
       "      <th>friday</th>\n",
       "      <th>saturday</th>\n",
       "      <th>sunday</th>\n",
       "      <th>start_date</th>\n",
       "      <th>end_date</th>\n",
       "    </tr>\n",
       "  </thead>\n",
       "  <tbody>\n",
       "    <tr>\n",
       "      <th>3583</th>\n",
       "      <td>TA+b05c0</td>\n",
       "      <td>1</td>\n",
       "      <td>1</td>\n",
       "      <td>1</td>\n",
       "      <td>1</td>\n",
       "      <td>1</td>\n",
       "      <td>1</td>\n",
       "      <td>0</td>\n",
       "      <td>20161129</td>\n",
       "      <td>20161210</td>\n",
       "    </tr>\n",
       "    <tr>\n",
       "      <th>3584</th>\n",
       "      <td>TA+b0hvg</td>\n",
       "      <td>0</td>\n",
       "      <td>0</td>\n",
       "      <td>0</td>\n",
       "      <td>0</td>\n",
       "      <td>0</td>\n",
       "      <td>1</td>\n",
       "      <td>1</td>\n",
       "      <td>20161129</td>\n",
       "      <td>20161210</td>\n",
       "    </tr>\n",
       "    <tr>\n",
       "      <th>3585</th>\n",
       "      <td>TA+b0g2e</td>\n",
       "      <td>0</td>\n",
       "      <td>0</td>\n",
       "      <td>0</td>\n",
       "      <td>0</td>\n",
       "      <td>0</td>\n",
       "      <td>1</td>\n",
       "      <td>1</td>\n",
       "      <td>20161129</td>\n",
       "      <td>20161210</td>\n",
       "    </tr>\n",
       "    <tr>\n",
       "      <th>3586</th>\n",
       "      <td>TA+b02or</td>\n",
       "      <td>1</td>\n",
       "      <td>1</td>\n",
       "      <td>1</td>\n",
       "      <td>1</td>\n",
       "      <td>1</td>\n",
       "      <td>1</td>\n",
       "      <td>1</td>\n",
       "      <td>20161129</td>\n",
       "      <td>20161210</td>\n",
       "    </tr>\n",
       "    <tr>\n",
       "      <th>3587</th>\n",
       "      <td>TA+b0bag</td>\n",
       "      <td>1</td>\n",
       "      <td>1</td>\n",
       "      <td>1</td>\n",
       "      <td>1</td>\n",
       "      <td>1</td>\n",
       "      <td>1</td>\n",
       "      <td>1</td>\n",
       "      <td>20161129</td>\n",
       "      <td>20161210</td>\n",
       "    </tr>\n",
       "  </tbody>\n",
       "</table>\n",
       "</div>"
      ],
      "text/plain": [
       "     ﻿service_id  monday  tuesday  wednesday  thursday  friday  saturday  \\\n",
       "3583    TA+b05c0       1        1          1         1       1         1   \n",
       "3584    TA+b0hvg       0        0          0         0       0         1   \n",
       "3585    TA+b0g2e       0        0          0         0       0         1   \n",
       "3586    TA+b02or       1        1          1         1       1         1   \n",
       "3587    TA+b0bag       1        1          1         1       1         1   \n",
       "\n",
       "      sunday  start_date  end_date  \n",
       "3583       0    20161129  20161210  \n",
       "3584       1    20161129  20161210  \n",
       "3585       1    20161129  20161210  \n",
       "3586       1    20161129  20161210  \n",
       "3587       1    20161129  20161210  "
      ]
     },
     "execution_count": 70,
     "metadata": {},
     "output_type": "execute_result"
    }
   ],
   "source": [
    "calendar_df = pd.read_csv('calendar.csv')\n",
    "calendar_df.tail()"
   ]
  },
  {
   "cell_type": "code",
   "execution_count": 74,
   "metadata": {
    "collapsed": false,
    "scrolled": true
   },
   "outputs": [
    {
     "data": {
      "text/plain": [
       "1    2325\n",
       "0    1263\n",
       "Name: monday, dtype: int64"
      ]
     },
     "execution_count": 74,
     "metadata": {},
     "output_type": "execute_result"
    }
   ],
   "source": [
    "calendar_df['monday'].value_counts()"
   ]
  },
  {
   "cell_type": "code",
   "execution_count": 75,
   "metadata": {
    "collapsed": false
   },
   "outputs": [
    {
     "data": {
      "text/plain": [
       "1    2346\n",
       "0    1242\n",
       "Name: tuesday, dtype: int64"
      ]
     },
     "execution_count": 75,
     "metadata": {},
     "output_type": "execute_result"
    }
   ],
   "source": [
    "calendar_df['tuesday'].value_counts()"
   ]
  },
  {
   "cell_type": "code",
   "execution_count": 76,
   "metadata": {
    "collapsed": false
   },
   "outputs": [
    {
     "data": {
      "text/plain": [
       "1    2313\n",
       "0    1275\n",
       "Name: wednesday, dtype: int64"
      ]
     },
     "execution_count": 76,
     "metadata": {},
     "output_type": "execute_result"
    }
   ],
   "source": [
    "calendar_df['wednesday'].value_counts()"
   ]
  },
  {
   "cell_type": "code",
   "execution_count": 79,
   "metadata": {
    "collapsed": false
   },
   "outputs": [
    {
     "data": {
      "text/plain": [
       "1    2460\n",
       "0    1128\n",
       "Name: thursday, dtype: int64"
      ]
     },
     "execution_count": 79,
     "metadata": {},
     "output_type": "execute_result"
    }
   ],
   "source": [
    "calendar_df['thursday'].value_counts()"
   ]
  },
  {
   "cell_type": "code",
   "execution_count": 80,
   "metadata": {
    "collapsed": false
   },
   "outputs": [
    {
     "data": {
      "text/plain": [
       "1    2474\n",
       "0    1114\n",
       "Name: friday, dtype: int64"
      ]
     },
     "execution_count": 80,
     "metadata": {},
     "output_type": "execute_result"
    }
   ],
   "source": [
    "calendar_df['friday'].value_counts()"
   ]
  },
  {
   "cell_type": "code",
   "execution_count": 81,
   "metadata": {
    "collapsed": false
   },
   "outputs": [
    {
     "data": {
      "text/plain": [
       "1    2168\n",
       "0    1420\n",
       "Name: saturday, dtype: int64"
      ]
     },
     "execution_count": 81,
     "metadata": {},
     "output_type": "execute_result"
    }
   ],
   "source": [
    "calendar_df['saturday'].value_counts()"
   ]
  },
  {
   "cell_type": "code",
   "execution_count": 82,
   "metadata": {
    "collapsed": false
   },
   "outputs": [
    {
     "data": {
      "text/plain": [
       "1    1905\n",
       "0    1683\n",
       "Name: sunday, dtype: int64"
      ]
     },
     "execution_count": 82,
     "metadata": {},
     "output_type": "execute_result"
    }
   ],
   "source": [
    "calendar_df['sunday'].value_counts()"
   ]
  },
  {
   "cell_type": "code",
   "execution_count": 83,
   "metadata": {
    "collapsed": true
   },
   "outputs": [],
   "source": [
    "#what is most frequent day of the week?"
   ]
  },
  {
   "cell_type": "code",
   "execution_count": null,
   "metadata": {
    "collapsed": true
   },
   "outputs": [],
   "source": []
  },
  {
   "cell_type": "code",
   "execution_count": 11,
   "metadata": {
    "collapsed": false
   },
   "outputs": [
    {
     "data": {
      "text/html": [
       "<div>\n",
       "<table border=\"1\" class=\"dataframe\">\n",
       "  <thead>\n",
       "    <tr style=\"text-align: right;\">\n",
       "      <th></th>\n",
       "      <th>﻿service_id</th>\n",
       "      <th>date</th>\n",
       "      <th>exception_type</th>\n",
       "    </tr>\n",
       "  </thead>\n",
       "  <tbody>\n",
       "    <tr>\n",
       "      <th>0</th>\n",
       "      <td>TA+b000b</td>\n",
       "      <td>20161208</td>\n",
       "      <td>2</td>\n",
       "    </tr>\n",
       "    <tr>\n",
       "      <th>1</th>\n",
       "      <td>TA+b000f</td>\n",
       "      <td>20161201</td>\n",
       "      <td>2</td>\n",
       "    </tr>\n",
       "    <tr>\n",
       "      <th>2</th>\n",
       "      <td>TA+b000g</td>\n",
       "      <td>20161208</td>\n",
       "      <td>2</td>\n",
       "    </tr>\n",
       "    <tr>\n",
       "      <th>3</th>\n",
       "      <td>TA+b000n</td>\n",
       "      <td>20161208</td>\n",
       "      <td>2</td>\n",
       "    </tr>\n",
       "    <tr>\n",
       "      <th>4</th>\n",
       "      <td>TA+b000q</td>\n",
       "      <td>20161208</td>\n",
       "      <td>2</td>\n",
       "    </tr>\n",
       "  </tbody>\n",
       "</table>\n",
       "</div>"
      ],
      "text/plain": [
       "  ﻿service_id      date  exception_type\n",
       "0    TA+b000b  20161208               2\n",
       "1    TA+b000f  20161201               2\n",
       "2    TA+b000g  20161208               2\n",
       "3    TA+b000n  20161208               2\n",
       "4    TA+b000q  20161208               2"
      ]
     },
     "execution_count": 11,
     "metadata": {},
     "output_type": "execute_result"
    }
   ],
   "source": [
    "calendardates_df = pd.read_csv('calendar_dates.csv')\n",
    "calendardates_df.head()"
   ]
  },
  {
   "cell_type": "raw",
   "metadata": {},
   "source": []
  },
  {
   "cell_type": "code",
   "execution_count": 12,
   "metadata": {
    "collapsed": false
   },
   "outputs": [
    {
     "data": {
      "text/html": [
       "<div>\n",
       "<table border=\"1\" class=\"dataframe\">\n",
       "  <thead>\n",
       "    <tr style=\"text-align: right;\">\n",
       "      <th></th>\n",
       "      <th>﻿route_id</th>\n",
       "      <th>agency_id</th>\n",
       "      <th>route_short_name</th>\n",
       "      <th>route_long_name</th>\n",
       "      <th>route_type</th>\n",
       "      <th>route_color</th>\n",
       "      <th>route_text_color</th>\n",
       "    </tr>\n",
       "  </thead>\n",
       "  <tbody>\n",
       "    <tr>\n",
       "      <th>0</th>\n",
       "      <td>11-21-j16-1</td>\n",
       "      <td>NaN</td>\n",
       "      <td>021</td>\n",
       "      <td>NaN</td>\n",
       "      <td>3</td>\n",
       "      <td>NaN</td>\n",
       "      <td>NaN</td>\n",
       "    </tr>\n",
       "    <tr>\n",
       "      <th>1</th>\n",
       "      <td>11-22-j16-1</td>\n",
       "      <td>NaN</td>\n",
       "      <td>022</td>\n",
       "      <td>NaN</td>\n",
       "      <td>3</td>\n",
       "      <td>NaN</td>\n",
       "      <td>NaN</td>\n",
       "    </tr>\n",
       "    <tr>\n",
       "      <th>2</th>\n",
       "      <td>16-22-j16-1</td>\n",
       "      <td>NaN</td>\n",
       "      <td>022</td>\n",
       "      <td>NaN</td>\n",
       "      <td>3</td>\n",
       "      <td>NaN</td>\n",
       "      <td>NaN</td>\n",
       "    </tr>\n",
       "    <tr>\n",
       "      <th>3</th>\n",
       "      <td>11-25-j16-1</td>\n",
       "      <td>NaN</td>\n",
       "      <td>025</td>\n",
       "      <td>NaN</td>\n",
       "      <td>3</td>\n",
       "      <td>NaN</td>\n",
       "      <td>NaN</td>\n",
       "    </tr>\n",
       "    <tr>\n",
       "      <th>4</th>\n",
       "      <td>11-41-j16-1</td>\n",
       "      <td>NaN</td>\n",
       "      <td>041</td>\n",
       "      <td>NaN</td>\n",
       "      <td>3</td>\n",
       "      <td>NaN</td>\n",
       "      <td>NaN</td>\n",
       "    </tr>\n",
       "  </tbody>\n",
       "</table>\n",
       "</div>"
      ],
      "text/plain": [
       "     ﻿route_id  agency_id route_short_name  route_long_name  route_type  \\\n",
       "0  11-21-j16-1        NaN              021              NaN           3   \n",
       "1  11-22-j16-1        NaN              022              NaN           3   \n",
       "2  16-22-j16-1        NaN              022              NaN           3   \n",
       "3  11-25-j16-1        NaN              025              NaN           3   \n",
       "4  11-41-j16-1        NaN              041              NaN           3   \n",
       "\n",
       "   route_color  route_text_color  \n",
       "0          NaN               NaN  \n",
       "1          NaN               NaN  \n",
       "2          NaN               NaN  \n",
       "3          NaN               NaN  \n",
       "4          NaN               NaN  "
      ]
     },
     "execution_count": 12,
     "metadata": {},
     "output_type": "execute_result"
    }
   ],
   "source": [
    "routes_df = pd.read_csv('routes.csv')\n",
    "routes_df.head()"
   ]
  },
  {
   "cell_type": "code",
   "execution_count": 13,
   "metadata": {
    "collapsed": false
   },
   "outputs": [
    {
     "data": {
      "text/html": [
       "<div>\n",
       "<table border=\"1\" class=\"dataframe\">\n",
       "  <thead>\n",
       "    <tr style=\"text-align: right;\">\n",
       "      <th></th>\n",
       "      <th>﻿route_id</th>\n",
       "      <th>service_id</th>\n",
       "      <th>trip_id</th>\n",
       "      <th>trip_headsign</th>\n",
       "      <th>direction_id</th>\n",
       "    </tr>\n",
       "  </thead>\n",
       "  <tbody>\n",
       "    <tr>\n",
       "      <th>0</th>\n",
       "      <td>1-1-A-j16-1</td>\n",
       "      <td>TA</td>\n",
       "      <td>224.TA.1-1-A-j16-1.9.H</td>\n",
       "      <td>Laufenburg</td>\n",
       "      <td>0</td>\n",
       "    </tr>\n",
       "    <tr>\n",
       "      <th>1</th>\n",
       "      <td>1-1-A-j16-1</td>\n",
       "      <td>TA</td>\n",
       "      <td>225.TA.1-1-A-j16-1.9.H</td>\n",
       "      <td>Laufenburg</td>\n",
       "      <td>0</td>\n",
       "    </tr>\n",
       "    <tr>\n",
       "      <th>2</th>\n",
       "      <td>1-1-A-j16-1</td>\n",
       "      <td>TA</td>\n",
       "      <td>226.TA.1-1-A-j16-1.9.H</td>\n",
       "      <td>Laufenburg</td>\n",
       "      <td>0</td>\n",
       "    </tr>\n",
       "    <tr>\n",
       "      <th>3</th>\n",
       "      <td>1-1-A-j16-1</td>\n",
       "      <td>TA</td>\n",
       "      <td>227.TA.1-1-A-j16-1.9.H</td>\n",
       "      <td>Laufenburg</td>\n",
       "      <td>0</td>\n",
       "    </tr>\n",
       "    <tr>\n",
       "      <th>4</th>\n",
       "      <td>1-1-A-j16-1</td>\n",
       "      <td>TA</td>\n",
       "      <td>228.TA.1-1-A-j16-1.9.H</td>\n",
       "      <td>Laufenburg</td>\n",
       "      <td>0</td>\n",
       "    </tr>\n",
       "  </tbody>\n",
       "</table>\n",
       "</div>"
      ],
      "text/plain": [
       "     ﻿route_id service_id                 trip_id trip_headsign  direction_id\n",
       "0  1-1-A-j16-1         TA  224.TA.1-1-A-j16-1.9.H    Laufenburg             0\n",
       "1  1-1-A-j16-1         TA  225.TA.1-1-A-j16-1.9.H    Laufenburg             0\n",
       "2  1-1-A-j16-1         TA  226.TA.1-1-A-j16-1.9.H    Laufenburg             0\n",
       "3  1-1-A-j16-1         TA  227.TA.1-1-A-j16-1.9.H    Laufenburg             0\n",
       "4  1-1-A-j16-1         TA  228.TA.1-1-A-j16-1.9.H    Laufenburg             0"
      ]
     },
     "execution_count": 13,
     "metadata": {},
     "output_type": "execute_result"
    }
   ],
   "source": [
    "trips_df = pd.read_csv('trips.csv')\n",
    "trips_df.head()"
   ]
  },
  {
   "cell_type": "code",
   "execution_count": 68,
   "metadata": {
    "collapsed": false
   },
   "outputs": [
    {
     "data": {
      "text/html": [
       "<div>\n",
       "<table border=\"1\" class=\"dataframe\">\n",
       "  <thead>\n",
       "    <tr style=\"text-align: right;\">\n",
       "      <th></th>\n",
       "      <th>﻿route_id</th>\n",
       "      <th>service_id</th>\n",
       "      <th>trip_id</th>\n",
       "      <th>trip_headsign</th>\n",
       "      <th>direction_id</th>\n",
       "    </tr>\n",
       "  </thead>\n",
       "  <tbody>\n",
       "    <tr>\n",
       "      <th>288920</th>\n",
       "      <td>80-96-Y-j16-1</td>\n",
       "      <td>TA+b0ict</td>\n",
       "      <td>1.TA.80-96-Y-j16-1.1.H</td>\n",
       "      <td>Neuchâtel</td>\n",
       "      <td>0</td>\n",
       "    </tr>\n",
       "    <tr>\n",
       "      <th>288921</th>\n",
       "      <td>80-96-Y-j16-1</td>\n",
       "      <td>TA+b0icu</td>\n",
       "      <td>4.TA.80-96-Y-j16-1.1.H</td>\n",
       "      <td>Neuchâtel</td>\n",
       "      <td>0</td>\n",
       "    </tr>\n",
       "    <tr>\n",
       "      <th>288922</th>\n",
       "      <td>80-96-Y-j16-1</td>\n",
       "      <td>TA+b0icv</td>\n",
       "      <td>7.TA.80-96-Y-j16-1.1.H</td>\n",
       "      <td>Neuchâtel</td>\n",
       "      <td>0</td>\n",
       "    </tr>\n",
       "    <tr>\n",
       "      <th>288923</th>\n",
       "      <td>90-5-Y-j16-1</td>\n",
       "      <td>TA+b0idd</td>\n",
       "      <td>33.TA.90-5-Y-j16-1.15.H</td>\n",
       "      <td>Treib</td>\n",
       "      <td>0</td>\n",
       "    </tr>\n",
       "    <tr>\n",
       "      <th>288924</th>\n",
       "      <td>90-5-Y-j16-1</td>\n",
       "      <td>TA+b0ide</td>\n",
       "      <td>34.TA.90-5-Y-j16-1.16.H</td>\n",
       "      <td>Luzern Bahnhofquai</td>\n",
       "      <td>0</td>\n",
       "    </tr>\n",
       "  </tbody>\n",
       "</table>\n",
       "</div>"
      ],
      "text/plain": [
       "            ﻿route_id service_id                  trip_id       trip_headsign  \\\n",
       "288920  80-96-Y-j16-1   TA+b0ict   1.TA.80-96-Y-j16-1.1.H           Neuchâtel   \n",
       "288921  80-96-Y-j16-1   TA+b0icu   4.TA.80-96-Y-j16-1.1.H           Neuchâtel   \n",
       "288922  80-96-Y-j16-1   TA+b0icv   7.TA.80-96-Y-j16-1.1.H           Neuchâtel   \n",
       "288923   90-5-Y-j16-1   TA+b0idd  33.TA.90-5-Y-j16-1.15.H               Treib   \n",
       "288924   90-5-Y-j16-1   TA+b0ide  34.TA.90-5-Y-j16-1.16.H  Luzern Bahnhofquai   \n",
       "\n",
       "        direction_id  \n",
       "288920             0  \n",
       "288921             0  \n",
       "288922             0  \n",
       "288923             0  \n",
       "288924             0  "
      ]
     },
     "execution_count": 68,
     "metadata": {},
     "output_type": "execute_result"
    }
   ],
   "source": [
    "trips_df.tail()"
   ]
  },
  {
   "cell_type": "code",
   "execution_count": 66,
   "metadata": {
    "collapsed": false
   },
   "outputs": [
    {
     "data": {
      "text/plain": [
       "Luzern, Bahnhof              2482\n",
       "Zürich, Klusplatz            1815\n",
       "Bern, Bahnhof                1654\n",
       "Genève, Jardin Botanique     1622\n",
       "Zürich Flughafen, Bahnhof    1498\n",
       "Name: trip_headsign, dtype: int64"
      ]
     },
     "execution_count": 66,
     "metadata": {},
     "output_type": "execute_result"
    }
   ],
   "source": [
    "trips_df5 = pd.read_csv('trips.csv')\n",
    "trips_df5['trip_headsign'].value_counts()[:5]"
   ]
  },
  {
   "cell_type": "code",
   "execution_count": 67,
   "metadata": {
    "collapsed": false
   },
   "outputs": [
    {
     "data": {
      "image/png": "[encoded data removed]",
      "text/plain": [
       "<matplotlib.figure.Figure at 0x2a3bee5c898>"
      ]
     },
     "metadata": {},
     "output_type": "display_data"
    }
   ],
   "source": [
    "fig = plt.figure(figsize=(8,5))\n",
    "ax = fig.add_subplot(111)\n",
    "ax.set(title = \"Most frequent trip headsign?\")\n",
    "trips_df5['trip_headsign'].value_counts()[:5].plot(kind=\"bar\", color = \"skyblue\")\n",
    "plt.show()\n"
   ]
  },
  {
   "cell_type": "code",
   "execution_count": null,
   "metadata": {
    "collapsed": false
   },
   "outputs": [],
   "source": []
  },
  {
   "cell_type": "code",
   "execution_count": null,
   "metadata": {
    "collapsed": true
   },
   "outputs": [],
   "source": []
  },
  {
   "cell_type": "code",
   "execution_count": null,
   "metadata": {
    "collapsed": true
   },
   "outputs": [],
   "source": []
  }
 ],
 "metadata": {
  "anaconda-cloud": {},
  "kernelspec": {
   "display_name": "Python [conda root]",
   "language": "python",
   "name": "conda-root-py"
  },
  "language_info": {
   "codemirror_mode": {
    "name": "ipython",
    "version": 3
   },
   "file_extension": ".py",
   "mimetype": "text/x-python",
   "name": "python",
   "nbconvert_exporter": "python",
   "pygments_lexer": "ipython3",
   "version": "3.5.2"
  }
 },
 "nbformat": 4,
 "nbformat_minor": 1
}
