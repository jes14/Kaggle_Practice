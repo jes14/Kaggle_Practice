{
 "cells": [
  {
   "cell_type": "markdown",
   "metadata": {},
   "source": [
    "IMDB 5000 Movie Dataset"
   ]
  },
  {
   "cell_type": "code",
   "execution_count": 5,
   "metadata": {
    "collapsed": false
   },
   "outputs": [
    {
     "data": {
      "text/html": [
       "<div>\n",
       "<table border=\"1\" class=\"dataframe\">\n",
       "  <thead>\n",
       "    <tr style=\"text-align: right;\">\n",
       "      <th></th>\n",
       "      <th>color</th>\n",
       "      <th>director_name</th>\n",
       "      <th>num_critic_for_reviews</th>\n",
       "      <th>duration</th>\n",
       "      <th>director_facebook_likes</th>\n",
       "      <th>actor_3_facebook_likes</th>\n",
       "      <th>actor_2_name</th>\n",
       "      <th>actor_1_facebook_likes</th>\n",
       "      <th>gross</th>\n",
       "      <th>genres</th>\n",
       "      <th>...</th>\n",
       "      <th>num_user_for_reviews</th>\n",
       "      <th>language</th>\n",
       "      <th>country</th>\n",
       "      <th>content_rating</th>\n",
       "      <th>budget</th>\n",
       "      <th>title_year</th>\n",
       "      <th>actor_2_facebook_likes</th>\n",
       "      <th>imdb_score</th>\n",
       "      <th>aspect_ratio</th>\n",
       "      <th>movie_facebook_likes</th>\n",
       "    </tr>\n",
       "  </thead>\n",
       "  <tbody>\n",
       "    <tr>\n",
       "      <th>0</th>\n",
       "      <td>Color</td>\n",
       "      <td>James Cameron</td>\n",
       "      <td>723.0</td>\n",
       "      <td>178.0</td>\n",
       "      <td>0.0</td>\n",
       "      <td>855.0</td>\n",
       "      <td>Joel David Moore</td>\n",
       "      <td>1000.0</td>\n",
       "      <td>760505847.0</td>\n",
       "      <td>Action|Adventure|Fantasy|Sci-Fi</td>\n",
       "      <td>...</td>\n",
       "      <td>3054.0</td>\n",
       "      <td>English</td>\n",
       "      <td>USA</td>\n",
       "      <td>PG-13</td>\n",
       "      <td>237000000.0</td>\n",
       "      <td>2009.0</td>\n",
       "      <td>936.0</td>\n",
       "      <td>7.9</td>\n",
       "      <td>1.78</td>\n",
       "      <td>33000</td>\n",
       "    </tr>\n",
       "    <tr>\n",
       "      <th>1</th>\n",
       "      <td>Color</td>\n",
       "      <td>Gore Verbinski</td>\n",
       "      <td>302.0</td>\n",
       "      <td>169.0</td>\n",
       "      <td>563.0</td>\n",
       "      <td>1000.0</td>\n",
       "      <td>Orlando Bloom</td>\n",
       "      <td>40000.0</td>\n",
       "      <td>309404152.0</td>\n",
       "      <td>Action|Adventure|Fantasy</td>\n",
       "      <td>...</td>\n",
       "      <td>1238.0</td>\n",
       "      <td>English</td>\n",
       "      <td>USA</td>\n",
       "      <td>PG-13</td>\n",
       "      <td>300000000.0</td>\n",
       "      <td>2007.0</td>\n",
       "      <td>5000.0</td>\n",
       "      <td>7.1</td>\n",
       "      <td>2.35</td>\n",
       "      <td>0</td>\n",
       "    </tr>\n",
       "    <tr>\n",
       "      <th>2</th>\n",
       "      <td>Color</td>\n",
       "      <td>Sam Mendes</td>\n",
       "      <td>602.0</td>\n",
       "      <td>148.0</td>\n",
       "      <td>0.0</td>\n",
       "      <td>161.0</td>\n",
       "      <td>Rory Kinnear</td>\n",
       "      <td>11000.0</td>\n",
       "      <td>200074175.0</td>\n",
       "      <td>Action|Adventure|Thriller</td>\n",
       "      <td>...</td>\n",
       "      <td>994.0</td>\n",
       "      <td>English</td>\n",
       "      <td>UK</td>\n",
       "      <td>PG-13</td>\n",
       "      <td>245000000.0</td>\n",
       "      <td>2015.0</td>\n",
       "      <td>393.0</td>\n",
       "      <td>6.8</td>\n",
       "      <td>2.35</td>\n",
       "      <td>85000</td>\n",
       "    </tr>\n",
       "    <tr>\n",
       "      <th>3</th>\n",
       "      <td>Color</td>\n",
       "      <td>Christopher Nolan</td>\n",
       "      <td>813.0</td>\n",
       "      <td>164.0</td>\n",
       "      <td>22000.0</td>\n",
       "      <td>23000.0</td>\n",
       "      <td>Christian Bale</td>\n",
       "      <td>27000.0</td>\n",
       "      <td>448130642.0</td>\n",
       "      <td>Action|Thriller</td>\n",
       "      <td>...</td>\n",
       "      <td>2701.0</td>\n",
       "      <td>English</td>\n",
       "      <td>USA</td>\n",
       "      <td>PG-13</td>\n",
       "      <td>250000000.0</td>\n",
       "      <td>2012.0</td>\n",
       "      <td>23000.0</td>\n",
       "      <td>8.5</td>\n",
       "      <td>2.35</td>\n",
       "      <td>164000</td>\n",
       "    </tr>\n",
       "    <tr>\n",
       "      <th>4</th>\n",
       "      <td>NaN</td>\n",
       "      <td>Doug Walker</td>\n",
       "      <td>NaN</td>\n",
       "      <td>NaN</td>\n",
       "      <td>131.0</td>\n",
       "      <td>NaN</td>\n",
       "      <td>Rob Walker</td>\n",
       "      <td>131.0</td>\n",
       "      <td>NaN</td>\n",
       "      <td>Documentary</td>\n",
       "      <td>...</td>\n",
       "      <td>NaN</td>\n",
       "      <td>NaN</td>\n",
       "      <td>NaN</td>\n",
       "      <td>NaN</td>\n",
       "      <td>NaN</td>\n",
       "      <td>NaN</td>\n",
       "      <td>12.0</td>\n",
       "      <td>7.1</td>\n",
       "      <td>NaN</td>\n",
       "      <td>0</td>\n",
       "    </tr>\n",
       "  </tbody>\n",
       "</table>\n",
       "<p>5 rows × 28 columns</p>\n",
       "</div>"
      ],
      "text/plain": [
       "   color      director_name  num_critic_for_reviews  duration  \\\n",
       "0  Color      James Cameron                   723.0     178.0   \n",
       "1  Color     Gore Verbinski                   302.0     169.0   \n",
       "2  Color         Sam Mendes                   602.0     148.0   \n",
       "3  Color  Christopher Nolan                   813.0     164.0   \n",
       "4    NaN        Doug Walker                     NaN       NaN   \n",
       "\n",
       "   director_facebook_likes  actor_3_facebook_likes      actor_2_name  \\\n",
       "0                      0.0                   855.0  Joel David Moore   \n",
       "1                    563.0                  1000.0     Orlando Bloom   \n",
       "2                      0.0                   161.0      Rory Kinnear   \n",
       "3                  22000.0                 23000.0    Christian Bale   \n",
       "4                    131.0                     NaN        Rob Walker   \n",
       "\n",
       "   actor_1_facebook_likes        gross                           genres  \\\n",
       "0                  1000.0  760505847.0  Action|Adventure|Fantasy|Sci-Fi   \n",
       "1                 40000.0  309404152.0         Action|Adventure|Fantasy   \n",
       "2                 11000.0  200074175.0        Action|Adventure|Thriller   \n",
       "3                 27000.0  448130642.0                  Action|Thriller   \n",
       "4                   131.0          NaN                      Documentary   \n",
       "\n",
       "          ...          num_user_for_reviews language  country  content_rating  \\\n",
       "0         ...                        3054.0  English      USA           PG-13   \n",
       "1         ...                        1238.0  English      USA           PG-13   \n",
       "2         ...                         994.0  English       UK           PG-13   \n",
       "3         ...                        2701.0  English      USA           PG-13   \n",
       "4         ...                           NaN      NaN      NaN             NaN   \n",
       "\n",
       "        budget  title_year actor_2_facebook_likes imdb_score  aspect_ratio  \\\n",
       "0  237000000.0      2009.0                  936.0        7.9          1.78   \n",
       "1  300000000.0      2007.0                 5000.0        7.1          2.35   \n",
       "2  245000000.0      2015.0                  393.0        6.8          2.35   \n",
       "3  250000000.0      2012.0                23000.0        8.5          2.35   \n",
       "4          NaN         NaN                   12.0        7.1           NaN   \n",
       "\n",
       "  movie_facebook_likes  \n",
       "0                33000  \n",
       "1                    0  \n",
       "2                85000  \n",
       "3               164000  \n",
       "4                    0  \n",
       "\n",
       "[5 rows x 28 columns]"
      ]
     },
     "execution_count": 5,
     "metadata": {},
     "output_type": "execute_result"
    }
   ],
   "source": [
    "import numpy as np # linear algebra\n",
    "import pandas as pd # data processing, CSV file I/O (e.g. pd.read_csv)\n",
    "import seaborn as sns\n",
    "sns.set(style='white')\n",
    "import matplotlib.pyplot as plt\n",
    "# Input data files are available in the \"../input/\" directory.\n",
    "# For example, running this (by clicking run or pressing Shift+Enter) will list the files in the input directory\n",
    "\n",
    "df = pd.read_csv(\"movie_metadata.csv\")\n",
    "df.head()"
   ]
  },
  {
   "cell_type": "code",
   "execution_count": 6,
   "metadata": {
    "collapsed": false
   },
   "outputs": [
    {
     "name": "stdout",
     "output_type": "stream",
     "text": [
      "(5043, 28)\n"
     ]
    }
   ],
   "source": [
    "print(df.shape)"
   ]
  },
  {
   "cell_type": "code",
   "execution_count": 7,
   "metadata": {
    "collapsed": false
   },
   "outputs": [
    {
     "name": "stdout",
     "output_type": "stream",
     "text": [
      "(3756, 28)\n"
     ]
    }
   ],
   "source": [
    "df1 = df.dropna()\n",
    "print(df1.shape)"
   ]
  },
  {
   "cell_type": "code",
   "execution_count": 8,
   "metadata": {
    "collapsed": false
   },
   "outputs": [
    {
     "name": "stdout",
     "output_type": "stream",
     "text": [
      "color                         object\n",
      "director_name                 object\n",
      "num_critic_for_reviews       float64\n",
      "duration                     float64\n",
      "director_facebook_likes      float64\n",
      "actor_3_facebook_likes       float64\n",
      "actor_2_name                  object\n",
      "actor_1_facebook_likes       float64\n",
      "gross                        float64\n",
      "genres                        object\n",
      "actor_1_name                  object\n",
      "movie_title                   object\n",
      "num_voted_users                int64\n",
      "cast_total_facebook_likes      int64\n",
      "actor_3_name                  object\n",
      "facenumber_in_poster         float64\n",
      "plot_keywords                 object\n",
      "movie_imdb_link               object\n",
      "num_user_for_reviews         float64\n",
      "language                      object\n",
      "country                       object\n",
      "content_rating                object\n",
      "budget                       float64\n",
      "title_year                   float64\n",
      "actor_2_facebook_likes       float64\n",
      "imdb_score                   float64\n",
      "aspect_ratio                 float64\n",
      "movie_facebook_likes           int64\n",
      "dtype: object\n"
     ]
    }
   ],
   "source": [
    "print(df.dtypes)"
   ]
  },
  {
   "cell_type": "code",
   "execution_count": 9,
   "metadata": {
    "collapsed": true
   },
   "outputs": [],
   "source": [
    "df2 = df1.select_dtypes(include=['int64','float64'])"
   ]
  },
  {
   "cell_type": "code",
   "execution_count": 10,
   "metadata": {
    "collapsed": false
   },
   "outputs": [
    {
     "name": "stdout",
     "output_type": "stream",
     "text": [
      "(3756, 16)\n"
     ]
    }
   ],
   "source": [
    "print(df2.shape)"
   ]
  },
  {
   "cell_type": "code",
   "execution_count": 12,
   "metadata": {
    "collapsed": false
   },
   "outputs": [
    {
     "name": "stdout",
     "output_type": "stream",
     "text": [
      "                           num_critic_for_reviews  duration  \\\n",
      "num_critic_for_reviews                   1.000000  0.228631   \n",
      "duration                                 0.228631  1.000000   \n",
      "director_facebook_likes                  0.175128  0.180644   \n",
      "actor_3_facebook_likes                   0.252782  0.125797   \n",
      "actor_1_facebook_likes                   0.165986  0.083632   \n",
      "gross                                    0.464187  0.245726   \n",
      "num_voted_users                          0.592473  0.339592   \n",
      "cast_total_facebook_likes                0.236533  0.120179   \n",
      "facenumber_in_poster                    -0.034365  0.026919   \n",
      "num_user_for_reviews                     0.563684  0.351595   \n",
      "budget                                   0.104717  0.068012   \n",
      "title_year                               0.420202 -0.130211   \n",
      "actor_2_facebook_likes                   0.253125  0.128935   \n",
      "imdb_score                               0.347886  0.366221   \n",
      "aspect_ratio                             0.180230  0.153027   \n",
      "movie_facebook_likes                     0.705226  0.215303   \n",
      "profit                                   0.025072  0.003500   \n",
      "\n",
      "                           director_facebook_likes  actor_3_facebook_likes  \\\n",
      "num_critic_for_reviews                    0.175128                0.252782   \n",
      "duration                                  0.180644                0.125797   \n",
      "director_facebook_likes                   1.000000                0.117405   \n",
      "actor_3_facebook_likes                    0.117405                1.000000   \n",
      "actor_1_facebook_likes                    0.089630                0.252408   \n",
      "gross                                     0.138351                0.299864   \n",
      "num_voted_users                           0.299624                0.267762   \n",
      "cast_total_facebook_likes                 0.118547                0.489795   \n",
      "facenumber_in_poster                     -0.048067                0.106189   \n",
      "num_user_for_reviews                      0.217103                0.205343   \n",
      "budget                                    0.018167                0.039966   \n",
      "title_year                               -0.044656                0.117475   \n",
      "actor_2_facebook_likes                    0.116058                0.553755   \n",
      "imdb_score                                0.192314                0.065544   \n",
      "aspect_ratio                              0.037528                0.046356   \n",
      "movie_facebook_likes                      0.161962                0.271508   \n",
      "profit                                    0.006255                0.013626   \n",
      "\n",
      "                           actor_1_facebook_likes     gross  num_voted_users  \\\n",
      "num_critic_for_reviews                   0.165986  0.464187         0.592473   \n",
      "duration                                 0.083632  0.245726         0.339592   \n",
      "director_facebook_likes                  0.089630  0.138351         0.299624   \n",
      "actor_3_facebook_likes                   0.252408  0.299864         0.267762   \n",
      "actor_1_facebook_likes                   1.000000  0.144010         0.179590   \n",
      "gross                                    0.144010  1.000000         0.624949   \n",
      "num_voted_users                          0.179590  0.624949         1.000000   \n",
      "cast_total_facebook_likes                0.944813  0.235601         0.249119   \n",
      "facenumber_in_poster                     0.057387 -0.032025        -0.032209   \n",
      "num_user_for_reviews                     0.121935  0.544674         0.778881   \n",
      "budget                                   0.016418  0.099496         0.065927   \n",
      "title_year                               0.096194  0.054808         0.023687   \n",
      "actor_2_facebook_likes                   0.391166  0.252842         0.244822   \n",
      "imdb_score                               0.093597  0.214740         0.482430   \n",
      "aspect_ratio                             0.056946  0.063946         0.084626   \n",
      "movie_facebook_likes                     0.130300  0.366933         0.517751   \n",
      "profit                                   0.012979  0.036075         0.025334   \n",
      "\n",
      "                           cast_total_facebook_likes  facenumber_in_poster  \\\n",
      "num_critic_for_reviews                      0.236533             -0.034365   \n",
      "duration                                    0.120179              0.026919   \n",
      "director_facebook_likes                     0.118547             -0.048067   \n",
      "actor_3_facebook_likes                      0.489795              0.106189   \n",
      "actor_1_facebook_likes                      0.944813              0.057387   \n",
      "gross                                       0.235601             -0.032025   \n",
      "num_voted_users                             0.249119             -0.032209   \n",
      "cast_total_facebook_likes                   1.000000              0.080687   \n",
      "facenumber_in_poster                        0.080687              1.000000   \n",
      "num_user_for_reviews                        0.178675             -0.080971   \n",
      "budget                                      0.028682             -0.021673   \n",
      "title_year                                  0.127045              0.070093   \n",
      "actor_2_facebook_likes                      0.642991              0.073098   \n",
      "imdb_score                                  0.106803             -0.065493   \n",
      "aspect_ratio                                0.068952              0.018988   \n",
      "movie_facebook_likes                        0.205564              0.015185   \n",
      "profit                                      0.017764             -0.024291   \n",
      "\n",
      "                           num_user_for_reviews    budget  title_year  \\\n",
      "num_critic_for_reviews                 0.563684  0.104717    0.420202   \n",
      "duration                               0.351595  0.068012   -0.130211   \n",
      "director_facebook_likes                0.217103  0.018167   -0.044656   \n",
      "actor_3_facebook_likes                 0.205343  0.039966    0.117475   \n",
      "actor_1_facebook_likes                 0.121935  0.016418    0.096194   \n",
      "gross                                  0.544674  0.099496    0.054808   \n",
      "num_voted_users                        0.778881  0.065927    0.023687   \n",
      "cast_total_facebook_likes              0.178675  0.028682    0.127045   \n",
      "facenumber_in_poster                  -0.080971 -0.021673    0.070093   \n",
      "num_user_for_reviews                   1.000000  0.070372    0.019470   \n",
      "budget                                 0.070372  1.000000    0.047138   \n",
      "title_year                             0.019470  0.047138    1.000000   \n",
      "actor_2_facebook_likes                 0.187016  0.035715    0.122410   \n",
      "imdb_score                             0.325003  0.029190   -0.134982   \n",
      "aspect_ratio                           0.098109  0.025264    0.216614   \n",
      "movie_facebook_likes                   0.370465  0.052490    0.306987   \n",
      "profit                                 0.027861 -0.225852   -0.025663   \n",
      "\n",
      "                           actor_2_facebook_likes  imdb_score  aspect_ratio  \\\n",
      "num_critic_for_reviews                   0.253125    0.347886      0.180230   \n",
      "duration                                 0.128935    0.366221      0.153027   \n",
      "director_facebook_likes                  0.116058    0.192314      0.037528   \n",
      "actor_3_facebook_likes                   0.553755    0.065544      0.046356   \n",
      "actor_1_facebook_likes                   0.391166    0.093597      0.056946   \n",
      "gross                                    0.252842    0.214740      0.063946   \n",
      "num_voted_users                          0.244822    0.482430      0.084626   \n",
      "cast_total_facebook_likes                0.642991    0.106803      0.068952   \n",
      "facenumber_in_poster                     0.073098   -0.065493      0.018988   \n",
      "num_user_for_reviews                     0.187016    0.325003      0.098109   \n",
      "budget                                   0.035715    0.029190      0.025264   \n",
      "title_year                               0.122410   -0.134982      0.216614   \n",
      "actor_2_facebook_likes                   1.000000    0.102372      0.063951   \n",
      "imdb_score                               0.102372    1.000000      0.029979   \n",
      "aspect_ratio                             0.063951    0.029979      1.000000   \n",
      "movie_facebook_likes                     0.232769    0.281155      0.110118   \n",
      "profit                                   0.016739    0.005065     -0.016467   \n",
      "\n",
      "                           movie_facebook_likes    profit  \n",
      "num_critic_for_reviews                 0.705226  0.025072  \n",
      "duration                               0.215303  0.003500  \n",
      "director_facebook_likes                0.161962  0.006255  \n",
      "actor_3_facebook_likes                 0.271508  0.013626  \n",
      "actor_1_facebook_likes                 0.130300  0.012979  \n",
      "gross                                  0.366933  0.036075  \n",
      "num_voted_users                        0.517751  0.025334  \n",
      "cast_total_facebook_likes              0.205564  0.017764  \n",
      "facenumber_in_poster                   0.015185 -0.024291  \n",
      "num_user_for_reviews                   0.370465  0.027861  \n",
      "budget                                 0.052490 -0.225852  \n",
      "title_year                             0.306987 -0.025663  \n",
      "actor_2_facebook_likes                 0.232769  0.016739  \n",
      "imdb_score                             0.281155  0.005065  \n",
      "aspect_ratio                           0.110118 -0.016467  \n",
      "movie_facebook_likes                   1.000000  0.015620  \n",
      "profit                                 0.015620  1.000000  \n"
     ]
    },
    {
     "data": {
      "text/plain": [
       "<matplotlib.axes._subplots.AxesSubplot at 0x2651e1a8470>"
      ]
     },
     "execution_count": 12,
     "metadata": {},
     "output_type": "execute_result"
    },
    {
     "data": {
      "image/png": "[encoded data removed]",
      "text/plain": [
       "<matplotlib.figure.Figure at 0x2651e1ddbe0>"
      ]
     },
     "metadata": {},
     "output_type": "display_data"
    }
   ],
   "source": [
    "corr = df2.corr()\n",
    "print (corr)\n",
    "\n",
    "f, ax = plt.subplots(figsize=(11, 9))\n",
    "cmap = sns.diverging_palette(220, 10, as_cmap=True)\n",
    "sns.heatmap(corr, cmap=cmap, vmax=1,\n",
    "            square=True,\n",
    "            linewidths=.5, cbar_kws={\"shrink\": .5}, ax=ax)"
   ]
  },
  {
   "cell_type": "code",
   "execution_count": 13,
   "metadata": {
    "collapsed": false
   },
   "outputs": [
    {
     "data": {
      "image/png": "[encoded data removed]",
      "text/plain": [
       "<matplotlib.figure.Figure at 0x2651e1a8a90>"
      ]
     },
     "metadata": {},
     "output_type": "display_data"
    }
   ],
   "source": [
    "g = sns.jointplot(x=\"title_year\", y=\"profit\",kind='scatter',size=10,ylim = [0,110],xlim=[1980,2020],data=df2)"
   ]
  },
  {
   "cell_type": "code",
   "execution_count": 14,
   "metadata": {
    "collapsed": false
   },
   "outputs": [
    {
     "name": "stdout",
     "output_type": "stream",
     "text": [
      "       num_critic_for_reviews     duration  director_facebook_likes  \\\n",
      "count             3756.000000  3756.000000              3756.000000   \n",
      "mean               167.378328   110.257987               807.336528   \n",
      "std                123.452040    22.646717              3068.171683   \n",
      "min                  2.000000    37.000000                 0.000000   \n",
      "25%                 77.000000    96.000000                11.000000   \n",
      "50%                138.500000   106.000000                64.000000   \n",
      "75%                224.000000   120.000000               235.000000   \n",
      "max                813.000000   330.000000             23000.000000   \n",
      "\n",
      "       actor_3_facebook_likes  actor_1_facebook_likes         gross  \\\n",
      "count             3756.000000             3756.000000  3.756000e+03   \n",
      "mean               771.279553             7751.338658  5.261282e+07   \n",
      "std               1894.249869            15519.339621  7.031787e+07   \n",
      "min                  0.000000                0.000000  1.620000e+02   \n",
      "25%                194.000000              745.000000  8.270233e+06   \n",
      "50%                436.000000             1000.000000  3.009311e+07   \n",
      "75%                691.000000            13000.000000  6.688194e+07   \n",
      "max              23000.000000           640000.000000  7.605058e+08   \n",
      "\n",
      "       num_voted_users  cast_total_facebook_likes  facenumber_in_poster  \\\n",
      "count     3.756000e+03                3756.000000           3756.000000   \n",
      "mean      1.058267e+05               11527.101970              1.377263   \n",
      "std       1.520354e+05               19122.176905              2.041541   \n",
      "min       9.100000e+01                   0.000000              0.000000   \n",
      "25%       1.966700e+04                1919.750000              0.000000   \n",
      "50%       5.397350e+04                4059.500000              1.000000   \n",
      "75%       1.286020e+05               16240.000000              2.000000   \n",
      "max       1.689764e+06              656730.000000             43.000000   \n",
      "\n",
      "       num_user_for_reviews        budget   title_year  \\\n",
      "count           3756.000000  3.756000e+03  3756.000000   \n",
      "mean             336.843184  4.623685e+07  2002.976571   \n",
      "std              411.227368  2.260103e+08     9.888108   \n",
      "min                4.000000  2.180000e+02  1927.000000   \n",
      "25%              110.000000  1.000000e+07  1999.000000   \n",
      "50%              210.000000  2.500000e+07  2004.000000   \n",
      "75%              398.250000  5.000000e+07  2010.000000   \n",
      "max             5060.000000  1.221550e+10  2016.000000   \n",
      "\n",
      "       actor_2_facebook_likes   imdb_score  aspect_ratio  \\\n",
      "count             3756.000000  3756.000000   3756.000000   \n",
      "mean              2021.775825     6.465282      2.111014   \n",
      "std               4544.908236     1.056247      0.353068   \n",
      "min                  0.000000     1.600000      1.180000   \n",
      "25%                384.750000     5.900000      1.850000   \n",
      "50%                685.500000     6.600000      2.350000   \n",
      "75%                976.000000     7.200000      2.350000   \n",
      "max             137000.000000     9.300000     16.000000   \n",
      "\n",
      "       movie_facebook_likes        profit  \n",
      "count           3756.000000  3.756000e+03  \n",
      "mean            9353.829340 -4.920446e+03  \n",
      "std            21462.889123  1.023301e+05  \n",
      "min                0.000000 -5.555456e+06  \n",
      "25%                0.000000 -1.071691e+02  \n",
      "50%              227.000000  9.406808e+00  \n",
      "75%            11000.000000  5.561907e+01  \n",
      "max           349000.000000  9.998610e+01  \n"
     ]
    }
   ],
   "source": [
    "print(df2.describe())"
   ]
  },
  {
   "cell_type": "code",
   "execution_count": 16,
   "metadata": {
    "collapsed": false
   },
   "outputs": [
    {
     "name": "stdout",
     "output_type": "stream",
     "text": [
      "<class 'pandas.core.frame.DataFrame'>\n",
      "RangeIndex: 5043 entries, 0 to 5042\n",
      "Data columns (total 28 columns):\n",
      "color                        5024 non-null object\n",
      "director_name                4939 non-null object\n",
      "num_critic_for_reviews       4993 non-null float64\n",
      "duration                     5028 non-null float64\n",
      "director_facebook_likes      4939 non-null float64\n",
      "actor_3_facebook_likes       5020 non-null float64\n",
      "actor_2_name                 5030 non-null object\n",
      "actor_1_facebook_likes       5036 non-null float64\n",
      "gross                        4159 non-null float64\n",
      "genres                       5043 non-null object\n",
      "actor_1_name                 5036 non-null object\n",
      "movie_title                  5043 non-null object\n",
      "num_voted_users              5043 non-null int64\n",
      "cast_total_facebook_likes    5043 non-null int64\n",
      "actor_3_name                 5020 non-null object\n",
      "facenumber_in_poster         5030 non-null float64\n",
      "plot_keywords                4890 non-null object\n",
      "movie_imdb_link              5043 non-null object\n",
      "num_user_for_reviews         5022 non-null float64\n",
      "language                     5031 non-null object\n",
      "country                      5038 non-null object\n",
      "content_rating               4740 non-null object\n",
      "budget                       4551 non-null float64\n",
      "title_year                   4935 non-null float64\n",
      "actor_2_facebook_likes       5030 non-null float64\n",
      "imdb_score                   5043 non-null float64\n",
      "aspect_ratio                 4714 non-null float64\n",
      "movie_facebook_likes         5043 non-null int64\n",
      "dtypes: float64(13), int64(3), object(12)\n",
      "memory usage: 1.1+ MB\n"
     ]
    }
   ],
   "source": [
    "df.info()"
   ]
  },
  {
   "cell_type": "code",
   "execution_count": 17,
   "metadata": {
    "collapsed": false
   },
   "outputs": [
    {
     "data": {
      "text/plain": [
       "True"
      ]
     },
     "execution_count": 17,
     "metadata": {},
     "output_type": "execute_result"
    }
   ],
   "source": [
    "df.isnull().values.any()"
   ]
  },
  {
   "cell_type": "code",
   "execution_count": 18,
   "metadata": {
    "collapsed": false
   },
   "outputs": [
    {
     "data": {
      "text/plain": [
       "color                         19\n",
       "director_name                104\n",
       "num_critic_for_reviews        50\n",
       "duration                      15\n",
       "director_facebook_likes      104\n",
       "actor_3_facebook_likes        23\n",
       "actor_2_name                  13\n",
       "actor_1_facebook_likes         7\n",
       "gross                        884\n",
       "genres                         0\n",
       "actor_1_name                   7\n",
       "movie_title                    0\n",
       "num_voted_users                0\n",
       "cast_total_facebook_likes      0\n",
       "actor_3_name                  23\n",
       "facenumber_in_poster          13\n",
       "plot_keywords                153\n",
       "movie_imdb_link                0\n",
       "num_user_for_reviews          21\n",
       "language                      12\n",
       "country                        5\n",
       "content_rating               303\n",
       "budget                       492\n",
       "title_year                   108\n",
       "actor_2_facebook_likes        13\n",
       "imdb_score                     0\n",
       "aspect_ratio                 329\n",
       "movie_facebook_likes           0\n",
       "dtype: int64"
      ]
     },
     "execution_count": 18,
     "metadata": {},
     "output_type": "execute_result"
    }
   ],
   "source": [
    "df[df.columns[:]].isnull().sum()"
   ]
  },
  {
   "cell_type": "code",
   "execution_count": 19,
   "metadata": {
    "collapsed": true
   },
   "outputs": [],
   "source": [
    "col_name = df.columns.tolist()"
   ]
  },
  {
   "cell_type": "code",
   "execution_count": 20,
   "metadata": {
    "collapsed": false
   },
   "outputs": [
    {
     "data": {
      "text/plain": [
       "['color',\n",
       " 'director_name',\n",
       " 'num_critic_for_reviews',\n",
       " 'duration',\n",
       " 'director_facebook_likes',\n",
       " 'actor_3_facebook_likes',\n",
       " 'actor_2_name',\n",
       " 'actor_1_facebook_likes',\n",
       " 'gross',\n",
       " 'genres',\n",
       " 'actor_1_name',\n",
       " 'movie_title',\n",
       " 'num_voted_users',\n",
       " 'cast_total_facebook_likes',\n",
       " 'actor_3_name',\n",
       " 'facenumber_in_poster',\n",
       " 'plot_keywords',\n",
       " 'movie_imdb_link',\n",
       " 'num_user_for_reviews',\n",
       " 'language',\n",
       " 'country',\n",
       " 'content_rating',\n",
       " 'budget',\n",
       " 'title_year',\n",
       " 'actor_2_facebook_likes',\n",
       " 'imdb_score',\n",
       " 'aspect_ratio',\n",
       " 'movie_facebook_likes']"
      ]
     },
     "execution_count": 20,
     "metadata": {},
     "output_type": "execute_result"
    }
   ],
   "source": [
    "col_name"
   ]
  },
  {
   "cell_type": "code",
   "execution_count": 21,
   "metadata": {
    "collapsed": false
   },
   "outputs": [
    {
     "data": {
      "text/plain": [
       "747"
      ]
     },
     "execution_count": 21,
     "metadata": {},
     "output_type": "execute_result"
    }
   ],
   "source": [
    "df[df['imdb_score']>7.5].shape[0]"
   ]
  },
  {
   "cell_type": "code",
   "execution_count": 23,
   "metadata": {
    "collapsed": false
   },
   "outputs": [],
   "source": [
    "data_groupby_ratings = df.groupby(['imdb_score'])['movie_title'].count()"
   ]
  },
  {
   "cell_type": "code",
   "execution_count": 25,
   "metadata": {
    "collapsed": false
   },
   "outputs": [
    {
     "data": {
      "text/plain": [
       "<matplotlib.axes._subplots.AxesSubplot at 0x2651fe08048>"
      ]
     },
     "execution_count": 25,
     "metadata": {},
     "output_type": "execute_result"
    },
    {
     "data": {
      "image/png": "[encoded data removed]",
      "text/plain": [
       "<matplotlib.figure.Figure at 0x265200a1e48>"
      ]
     },
     "metadata": {},
     "output_type": "display_data"
    }
   ],
   "source": [
    "data_groupby_ratings.plot()"
   ]
  },
  {
   "cell_type": "code",
   "execution_count": 26,
   "metadata": {
    "collapsed": false
   },
   "outputs": [
    {
     "data": {
      "text/plain": [
       "<matplotlib.axes._subplots.AxesSubplot at 0x2651fe5dd68>"
      ]
     },
     "execution_count": 26,
     "metadata": {},
     "output_type": "execute_result"
    },
    {
     "data": {
      "image/png": "[encoded data removed]",
      "text/plain": [
       "<matplotlib.figure.Figure at 0x2651fe67f98>"
      ]
     },
     "metadata": {},
     "output_type": "display_data"
    }
   ],
   "source": [
    "data_groupby_duration = df.groupby(['duration'])['movie_title'].count()\n",
    "data_groupby_duration.plot()"
   ]
  },
  {
   "cell_type": "code",
   "execution_count": 27,
   "metadata": {
    "collapsed": false
   },
   "outputs": [
    {
     "data": {
      "text/plain": [
       "array(['English', nan, 'Japanese', 'French', 'Mandarin', 'Aboriginal',\n",
       "       'Spanish', 'Filipino', 'Hindi', 'Russian', 'Maya', 'Kazakh',\n",
       "       'Telugu', 'Cantonese', 'Icelandic', 'German', 'Aramaic', 'Italian',\n",
       "       'Dutch', 'Dari', 'Hebrew', 'Chinese', 'Mongolian', 'Swedish',\n",
       "       'Korean', 'Thai', 'Polish', 'Bosnian', 'None', 'Hungarian',\n",
       "       'Portuguese', 'Danish', 'Arabic', 'Norwegian', 'Czech', 'Kannada',\n",
       "       'Zulu', 'Panjabi', 'Tamil', 'Dzongkha', 'Vietnamese', 'Indonesian',\n",
       "       'Urdu', 'Romanian', 'Persian', 'Slovenian', 'Greek', 'Swahili'], dtype=object)"
      ]
     },
     "execution_count": 27,
     "metadata": {},
     "output_type": "execute_result"
    }
   ],
   "source": [
    "df['language'].unique()"
   ]
  },
  {
   "cell_type": "code",
   "execution_count": 28,
   "metadata": {
    "collapsed": false
   },
   "outputs": [
    {
     "data": {
      "image/png": "[encoded data removed]",
      "text/plain": [
       "<matplotlib.figure.Figure at 0x2651ff499e8>"
      ]
     },
     "metadata": {},
     "output_type": "display_data"
    }
   ],
   "source": [
    "sns.set(style=\"darkgrid\")\n",
    "plt.figure(figsize = (12, 6))\n",
    "sns.countplot(x=\"language\", data = df)\n",
    "ax = plt.xticks(rotation=90)"
   ]
  },
  {
   "cell_type": "code",
   "execution_count": 29,
   "metadata": {
    "collapsed": false
   },
   "outputs": [
    {
     "data": {
      "text/plain": [
       "<matplotlib.axes._subplots.AxesSubplot at 0x2651ffaba20>"
      ]
     },
     "execution_count": 29,
     "metadata": {},
     "output_type": "execute_result"
    },
    {
     "data": {
      "image/png": "[encoded data removed]",
      "text/plain": [
       "<matplotlib.figure.Figure at 0x2651ff2c7f0>"
      ]
     },
     "metadata": {},
     "output_type": "display_data"
    }
   ],
   "source": [
    "sns.set(style=\"darkgrid\")\n",
    "sns.countplot(x=\"color\", data = df)"
   ]
  },
  {
   "cell_type": "code",
   "execution_count": 30,
   "metadata": {
    "collapsed": false
   },
   "outputs": [
    {
     "data": {
      "text/plain": [
       "<matplotlib.axes._subplots.AxesSubplot at 0x265204004e0>"
      ]
     },
     "execution_count": 30,
     "metadata": {},
     "output_type": "execute_result"
    },
    {
     "data": {
      "image/png": "[encoded data removed]",
      "text/plain": [
       "<matplotlib.figure.Figure at 0x265204edf60>"
      ]
     },
     "metadata": {},
     "output_type": "display_data"
    }
   ],
   "source": [
    "data_groupby_gross = df.groupby(['title_year'])['gross'].count()\n",
    "data_groupby_gross.plot()"
   ]
  },
  {
   "cell_type": "code",
   "execution_count": 33,
   "metadata": {
    "collapsed": false
   },
   "outputs": [
    {
     "data": {
      "text/plain": [
       "4704"
      ]
     },
     "execution_count": 33,
     "metadata": {},
     "output_type": "execute_result"
    }
   ],
   "source": [
    "df[df['language'] == 'English'].shape[0]"
   ]
  },
  {
   "cell_type": "code",
   "execution_count": 35,
   "metadata": {
    "collapsed": false
   },
   "outputs": [
    {
     "data": {
      "text/html": [
       "<div>\n",
       "<table border=\"1\" class=\"dataframe\">\n",
       "  <thead>\n",
       "    <tr style=\"text-align: right;\">\n",
       "      <th></th>\n",
       "      <th>movie_title</th>\n",
       "      <th>imdb_score</th>\n",
       "      <th>title_year</th>\n",
       "      <th>language</th>\n",
       "      <th>country</th>\n",
       "      <th>budget</th>\n",
       "      <th>director_name</th>\n",
       "      <th>duration</th>\n",
       "      <th>gross</th>\n",
       "    </tr>\n",
       "  </thead>\n",
       "  <tbody>\n",
       "    <tr>\n",
       "      <th>4105</th>\n",
       "      <td>Oldboy</td>\n",
       "      <td>8.4</td>\n",
       "      <td>2003.0</td>\n",
       "      <td>Korean</td>\n",
       "      <td>South Korea</td>\n",
       "      <td>3.000000e+06</td>\n",
       "      <td>Chan-wook Park</td>\n",
       "      <td>120.0</td>\n",
       "      <td>2181290.0</td>\n",
       "    </tr>\n",
       "    <tr>\n",
       "      <th>2914</th>\n",
       "      <td>Tae Guk Gi: The Brotherhood of War</td>\n",
       "      <td>8.1</td>\n",
       "      <td>2004.0</td>\n",
       "      <td>Korean</td>\n",
       "      <td>South Korea</td>\n",
       "      <td>1.280000e+07</td>\n",
       "      <td>Je-kyu Kang</td>\n",
       "      <td>148.0</td>\n",
       "      <td>1110186.0</td>\n",
       "    </tr>\n",
       "    <tr>\n",
       "      <th>3309</th>\n",
       "      <td>The Wailing</td>\n",
       "      <td>7.7</td>\n",
       "      <td>2016.0</td>\n",
       "      <td>Korean</td>\n",
       "      <td>South Korea</td>\n",
       "      <td>NaN</td>\n",
       "      <td>Hong-jin Na</td>\n",
       "      <td>156.0</td>\n",
       "      <td>770629.0</td>\n",
       "    </tr>\n",
       "    <tr>\n",
       "      <th>3859</th>\n",
       "      <td>Lady Vengeance</td>\n",
       "      <td>7.7</td>\n",
       "      <td>2005.0</td>\n",
       "      <td>Korean</td>\n",
       "      <td>South Korea</td>\n",
       "      <td>4.200000e+09</td>\n",
       "      <td>Chan-wook Park</td>\n",
       "      <td>112.0</td>\n",
       "      <td>211667.0</td>\n",
       "    </tr>\n",
       "    <tr>\n",
       "      <th>3255</th>\n",
       "      <td>The Good, the Bad, the Weird</td>\n",
       "      <td>7.3</td>\n",
       "      <td>2008.0</td>\n",
       "      <td>Korean</td>\n",
       "      <td>South Korea</td>\n",
       "      <td>1.000000e+07</td>\n",
       "      <td>Jee-woon Kim</td>\n",
       "      <td>135.0</td>\n",
       "      <td>128486.0</td>\n",
       "    </tr>\n",
       "  </tbody>\n",
       "</table>\n",
       "</div>"
      ],
      "text/plain": [
       "                              movie_title  imdb_score  title_year language  \\\n",
       "4105                              Oldboy          8.4      2003.0   Korean   \n",
       "2914  Tae Guk Gi: The Brotherhood of War          8.1      2004.0   Korean   \n",
       "3309                         The Wailing          7.7      2016.0   Korean   \n",
       "3859                      Lady Vengeance          7.7      2005.0   Korean   \n",
       "3255        The Good, the Bad, the Weird          7.3      2008.0   Korean   \n",
       "\n",
       "          country        budget   director_name  duration      gross  \n",
       "4105  South Korea  3.000000e+06  Chan-wook Park     120.0  2181290.0  \n",
       "2914  South Korea  1.280000e+07     Je-kyu Kang     148.0  1110186.0  \n",
       "3309  South Korea           NaN     Hong-jin Na     156.0   770629.0  \n",
       "3859  South Korea  4.200000e+09  Chan-wook Park     112.0   211667.0  \n",
       "3255  South Korea  1.000000e+07    Jee-woon Kim     135.0   128486.0  "
      ]
     },
     "execution_count": 35,
     "metadata": {},
     "output_type": "execute_result"
    }
   ],
   "source": [
    "korean = high[high['language']== 'Korean']\n",
    "korean.head(5)"
   ]
  },
  {
   "cell_type": "code",
   "execution_count": 36,
   "metadata": {
    "collapsed": false
   },
   "outputs": [
    {
     "data": {
      "text/html": [
       "<div>\n",
       "<table border=\"1\" class=\"dataframe\">\n",
       "  <thead>\n",
       "    <tr style=\"text-align: right;\">\n",
       "      <th></th>\n",
       "      <th>num_critic_for_reviews</th>\n",
       "      <th>duration</th>\n",
       "      <th>director_facebook_likes</th>\n",
       "      <th>actor_3_facebook_likes</th>\n",
       "      <th>actor_1_facebook_likes</th>\n",
       "      <th>gross</th>\n",
       "      <th>num_voted_users</th>\n",
       "      <th>cast_total_facebook_likes</th>\n",
       "      <th>facenumber_in_poster</th>\n",
       "      <th>num_user_for_reviews</th>\n",
       "      <th>budget</th>\n",
       "      <th>title_year</th>\n",
       "      <th>actor_2_facebook_likes</th>\n",
       "      <th>imdb_score</th>\n",
       "      <th>aspect_ratio</th>\n",
       "      <th>movie_facebook_likes</th>\n",
       "    </tr>\n",
       "  </thead>\n",
       "  <tbody>\n",
       "    <tr>\n",
       "      <th>num_critic_for_reviews</th>\n",
       "      <td>1.000000</td>\n",
       "      <td>0.258486</td>\n",
       "      <td>0.180674</td>\n",
       "      <td>0.271646</td>\n",
       "      <td>0.190016</td>\n",
       "      <td>0.480601</td>\n",
       "      <td>0.624943</td>\n",
       "      <td>0.263203</td>\n",
       "      <td>-0.033897</td>\n",
       "      <td>0.609387</td>\n",
       "      <td>0.119994</td>\n",
       "      <td>0.275707</td>\n",
       "      <td>0.282306</td>\n",
       "      <td>0.305303</td>\n",
       "      <td>-0.049786</td>\n",
       "      <td>0.683176</td>\n",
       "    </tr>\n",
       "    <tr>\n",
       "      <th>duration</th>\n",
       "      <td>0.258486</td>\n",
       "      <td>1.000000</td>\n",
       "      <td>0.173296</td>\n",
       "      <td>0.123558</td>\n",
       "      <td>0.088449</td>\n",
       "      <td>0.250298</td>\n",
       "      <td>0.314765</td>\n",
       "      <td>0.123074</td>\n",
       "      <td>0.013469</td>\n",
       "      <td>0.328403</td>\n",
       "      <td>0.074276</td>\n",
       "      <td>-0.135038</td>\n",
       "      <td>0.131673</td>\n",
       "      <td>0.261662</td>\n",
       "      <td>-0.090071</td>\n",
       "      <td>0.196605</td>\n",
       "    </tr>\n",
       "    <tr>\n",
       "      <th>director_facebook_likes</th>\n",
       "      <td>0.180674</td>\n",
       "      <td>0.173296</td>\n",
       "      <td>1.000000</td>\n",
       "      <td>0.120199</td>\n",
       "      <td>0.090723</td>\n",
       "      <td>0.144945</td>\n",
       "      <td>0.297057</td>\n",
       "      <td>0.119549</td>\n",
       "      <td>-0.041268</td>\n",
       "      <td>0.221890</td>\n",
       "      <td>0.021090</td>\n",
       "      <td>-0.063820</td>\n",
       "      <td>0.119601</td>\n",
       "      <td>0.170802</td>\n",
       "      <td>0.001642</td>\n",
       "      <td>0.162048</td>\n",
       "    </tr>\n",
       "    <tr>\n",
       "      <th>actor_3_facebook_likes</th>\n",
       "      <td>0.271646</td>\n",
       "      <td>0.123558</td>\n",
       "      <td>0.120199</td>\n",
       "      <td>1.000000</td>\n",
       "      <td>0.249927</td>\n",
       "      <td>0.308026</td>\n",
       "      <td>0.287239</td>\n",
       "      <td>0.473920</td>\n",
       "      <td>0.099368</td>\n",
       "      <td>0.230189</td>\n",
       "      <td>0.047451</td>\n",
       "      <td>0.096137</td>\n",
       "      <td>0.559662</td>\n",
       "      <td>0.052633</td>\n",
       "      <td>-0.003366</td>\n",
       "      <td>0.278844</td>\n",
       "    </tr>\n",
       "    <tr>\n",
       "      <th>actor_1_facebook_likes</th>\n",
       "      <td>0.190016</td>\n",
       "      <td>0.088449</td>\n",
       "      <td>0.090723</td>\n",
       "      <td>0.249927</td>\n",
       "      <td>1.000000</td>\n",
       "      <td>0.154468</td>\n",
       "      <td>0.192804</td>\n",
       "      <td>0.951661</td>\n",
       "      <td>0.072257</td>\n",
       "      <td>0.145461</td>\n",
       "      <td>0.022639</td>\n",
       "      <td>0.086873</td>\n",
       "      <td>0.390487</td>\n",
       "      <td>0.076099</td>\n",
       "      <td>-0.020049</td>\n",
       "      <td>0.135348</td>\n",
       "    </tr>\n",
       "    <tr>\n",
       "      <th>gross</th>\n",
       "      <td>0.480601</td>\n",
       "      <td>0.250298</td>\n",
       "      <td>0.144945</td>\n",
       "      <td>0.308026</td>\n",
       "      <td>0.154468</td>\n",
       "      <td>1.000000</td>\n",
       "      <td>0.637271</td>\n",
       "      <td>0.247400</td>\n",
       "      <td>-0.027755</td>\n",
       "      <td>0.559958</td>\n",
       "      <td>0.102179</td>\n",
       "      <td>0.030886</td>\n",
       "      <td>0.262768</td>\n",
       "      <td>0.198021</td>\n",
       "      <td>0.069346</td>\n",
       "      <td>0.378082</td>\n",
       "    </tr>\n",
       "    <tr>\n",
       "      <th>num_voted_users</th>\n",
       "      <td>0.624943</td>\n",
       "      <td>0.314765</td>\n",
       "      <td>0.297057</td>\n",
       "      <td>0.287239</td>\n",
       "      <td>0.192804</td>\n",
       "      <td>0.637271</td>\n",
       "      <td>1.000000</td>\n",
       "      <td>0.265911</td>\n",
       "      <td>-0.026998</td>\n",
       "      <td>0.798406</td>\n",
       "      <td>0.079621</td>\n",
       "      <td>0.007397</td>\n",
       "      <td>0.270790</td>\n",
       "      <td>0.410965</td>\n",
       "      <td>-0.014761</td>\n",
       "      <td>0.537924</td>\n",
       "    </tr>\n",
       "    <tr>\n",
       "      <th>cast_total_facebook_likes</th>\n",
       "      <td>0.263203</td>\n",
       "      <td>0.123074</td>\n",
       "      <td>0.119549</td>\n",
       "      <td>0.473920</td>\n",
       "      <td>0.951661</td>\n",
       "      <td>0.247400</td>\n",
       "      <td>0.265911</td>\n",
       "      <td>1.000000</td>\n",
       "      <td>0.091475</td>\n",
       "      <td>0.206923</td>\n",
       "      <td>0.036557</td>\n",
       "      <td>0.109971</td>\n",
       "      <td>0.628404</td>\n",
       "      <td>0.085787</td>\n",
       "      <td>-0.017885</td>\n",
       "      <td>0.209786</td>\n",
       "    </tr>\n",
       "    <tr>\n",
       "      <th>facenumber_in_poster</th>\n",
       "      <td>-0.033897</td>\n",
       "      <td>0.013469</td>\n",
       "      <td>-0.041268</td>\n",
       "      <td>0.099368</td>\n",
       "      <td>0.072257</td>\n",
       "      <td>-0.027755</td>\n",
       "      <td>-0.026998</td>\n",
       "      <td>0.091475</td>\n",
       "      <td>1.000000</td>\n",
       "      <td>-0.069018</td>\n",
       "      <td>-0.019559</td>\n",
       "      <td>0.061504</td>\n",
       "      <td>0.071228</td>\n",
       "      <td>-0.062958</td>\n",
       "      <td>0.013713</td>\n",
       "      <td>0.008918</td>\n",
       "    </tr>\n",
       "    <tr>\n",
       "      <th>num_user_for_reviews</th>\n",
       "      <td>0.609387</td>\n",
       "      <td>0.328403</td>\n",
       "      <td>0.221890</td>\n",
       "      <td>0.230189</td>\n",
       "      <td>0.145461</td>\n",
       "      <td>0.559958</td>\n",
       "      <td>0.798406</td>\n",
       "      <td>0.206923</td>\n",
       "      <td>-0.069018</td>\n",
       "      <td>1.000000</td>\n",
       "      <td>0.084292</td>\n",
       "      <td>-0.003147</td>\n",
       "      <td>0.219496</td>\n",
       "      <td>0.292475</td>\n",
       "      <td>-0.024719</td>\n",
       "      <td>0.400594</td>\n",
       "    </tr>\n",
       "    <tr>\n",
       "      <th>budget</th>\n",
       "      <td>0.119994</td>\n",
       "      <td>0.074276</td>\n",
       "      <td>0.021090</td>\n",
       "      <td>0.047451</td>\n",
       "      <td>0.022639</td>\n",
       "      <td>0.102179</td>\n",
       "      <td>0.079621</td>\n",
       "      <td>0.036557</td>\n",
       "      <td>-0.019559</td>\n",
       "      <td>0.084292</td>\n",
       "      <td>1.000000</td>\n",
       "      <td>0.045726</td>\n",
       "      <td>0.044236</td>\n",
       "      <td>0.030688</td>\n",
       "      <td>0.006598</td>\n",
       "      <td>0.062039</td>\n",
       "    </tr>\n",
       "    <tr>\n",
       "      <th>title_year</th>\n",
       "      <td>0.275707</td>\n",
       "      <td>-0.135038</td>\n",
       "      <td>-0.063820</td>\n",
       "      <td>0.096137</td>\n",
       "      <td>0.086873</td>\n",
       "      <td>0.030886</td>\n",
       "      <td>0.007397</td>\n",
       "      <td>0.109971</td>\n",
       "      <td>0.061504</td>\n",
       "      <td>-0.003147</td>\n",
       "      <td>0.045726</td>\n",
       "      <td>1.000000</td>\n",
       "      <td>0.101890</td>\n",
       "      <td>-0.209167</td>\n",
       "      <td>0.159973</td>\n",
       "      <td>0.218678</td>\n",
       "    </tr>\n",
       "    <tr>\n",
       "      <th>actor_2_facebook_likes</th>\n",
       "      <td>0.282306</td>\n",
       "      <td>0.131673</td>\n",
       "      <td>0.119601</td>\n",
       "      <td>0.559662</td>\n",
       "      <td>0.390487</td>\n",
       "      <td>0.262768</td>\n",
       "      <td>0.270790</td>\n",
       "      <td>0.628404</td>\n",
       "      <td>0.071228</td>\n",
       "      <td>0.219496</td>\n",
       "      <td>0.044236</td>\n",
       "      <td>0.101890</td>\n",
       "      <td>1.000000</td>\n",
       "      <td>0.083808</td>\n",
       "      <td>-0.007783</td>\n",
       "      <td>0.243487</td>\n",
       "    </tr>\n",
       "    <tr>\n",
       "      <th>imdb_score</th>\n",
       "      <td>0.305303</td>\n",
       "      <td>0.261662</td>\n",
       "      <td>0.170802</td>\n",
       "      <td>0.052633</td>\n",
       "      <td>0.076099</td>\n",
       "      <td>0.198021</td>\n",
       "      <td>0.410965</td>\n",
       "      <td>0.085787</td>\n",
       "      <td>-0.062958</td>\n",
       "      <td>0.292475</td>\n",
       "      <td>0.030688</td>\n",
       "      <td>-0.209167</td>\n",
       "      <td>0.083808</td>\n",
       "      <td>1.000000</td>\n",
       "      <td>0.059445</td>\n",
       "      <td>0.247049</td>\n",
       "    </tr>\n",
       "    <tr>\n",
       "      <th>aspect_ratio</th>\n",
       "      <td>-0.049786</td>\n",
       "      <td>-0.090071</td>\n",
       "      <td>0.001642</td>\n",
       "      <td>-0.003366</td>\n",
       "      <td>-0.020049</td>\n",
       "      <td>0.069346</td>\n",
       "      <td>-0.014761</td>\n",
       "      <td>-0.017885</td>\n",
       "      <td>0.013713</td>\n",
       "      <td>-0.024719</td>\n",
       "      <td>0.006598</td>\n",
       "      <td>0.159973</td>\n",
       "      <td>-0.007783</td>\n",
       "      <td>0.059445</td>\n",
       "      <td>1.000000</td>\n",
       "      <td>0.025737</td>\n",
       "    </tr>\n",
       "    <tr>\n",
       "      <th>movie_facebook_likes</th>\n",
       "      <td>0.683176</td>\n",
       "      <td>0.196605</td>\n",
       "      <td>0.162048</td>\n",
       "      <td>0.278844</td>\n",
       "      <td>0.135348</td>\n",
       "      <td>0.378082</td>\n",
       "      <td>0.537924</td>\n",
       "      <td>0.209786</td>\n",
       "      <td>0.008918</td>\n",
       "      <td>0.400594</td>\n",
       "      <td>0.062039</td>\n",
       "      <td>0.218678</td>\n",
       "      <td>0.243487</td>\n",
       "      <td>0.247049</td>\n",
       "      <td>0.025737</td>\n",
       "      <td>1.000000</td>\n",
       "    </tr>\n",
       "  </tbody>\n",
       "</table>\n",
       "</div>"
      ],
      "text/plain": [
       "                           num_critic_for_reviews  duration  \\\n",
       "num_critic_for_reviews                   1.000000  0.258486   \n",
       "duration                                 0.258486  1.000000   \n",
       "director_facebook_likes                  0.180674  0.173296   \n",
       "actor_3_facebook_likes                   0.271646  0.123558   \n",
       "actor_1_facebook_likes                   0.190016  0.088449   \n",
       "gross                                    0.480601  0.250298   \n",
       "num_voted_users                          0.624943  0.314765   \n",
       "cast_total_facebook_likes                0.263203  0.123074   \n",
       "facenumber_in_poster                    -0.033897  0.013469   \n",
       "num_user_for_reviews                     0.609387  0.328403   \n",
       "budget                                   0.119994  0.074276   \n",
       "title_year                               0.275707 -0.135038   \n",
       "actor_2_facebook_likes                   0.282306  0.131673   \n",
       "imdb_score                               0.305303  0.261662   \n",
       "aspect_ratio                            -0.049786 -0.090071   \n",
       "movie_facebook_likes                     0.683176  0.196605   \n",
       "\n",
       "                           director_facebook_likes  actor_3_facebook_likes  \\\n",
       "num_critic_for_reviews                    0.180674                0.271646   \n",
       "duration                                  0.173296                0.123558   \n",
       "director_facebook_likes                   1.000000                0.120199   \n",
       "actor_3_facebook_likes                    0.120199                1.000000   \n",
       "actor_1_facebook_likes                    0.090723                0.249927   \n",
       "gross                                     0.144945                0.308026   \n",
       "num_voted_users                           0.297057                0.287239   \n",
       "cast_total_facebook_likes                 0.119549                0.473920   \n",
       "facenumber_in_poster                     -0.041268                0.099368   \n",
       "num_user_for_reviews                      0.221890                0.230189   \n",
       "budget                                    0.021090                0.047451   \n",
       "title_year                               -0.063820                0.096137   \n",
       "actor_2_facebook_likes                    0.119601                0.559662   \n",
       "imdb_score                                0.170802                0.052633   \n",
       "aspect_ratio                              0.001642               -0.003366   \n",
       "movie_facebook_likes                      0.162048                0.278844   \n",
       "\n",
       "                           actor_1_facebook_likes     gross  num_voted_users  \\\n",
       "num_critic_for_reviews                   0.190016  0.480601         0.624943   \n",
       "duration                                 0.088449  0.250298         0.314765   \n",
       "director_facebook_likes                  0.090723  0.144945         0.297057   \n",
       "actor_3_facebook_likes                   0.249927  0.308026         0.287239   \n",
       "actor_1_facebook_likes                   1.000000  0.154468         0.192804   \n",
       "gross                                    0.154468  1.000000         0.637271   \n",
       "num_voted_users                          0.192804  0.637271         1.000000   \n",
       "cast_total_facebook_likes                0.951661  0.247400         0.265911   \n",
       "facenumber_in_poster                     0.072257 -0.027755        -0.026998   \n",
       "num_user_for_reviews                     0.145461  0.559958         0.798406   \n",
       "budget                                   0.022639  0.102179         0.079621   \n",
       "title_year                               0.086873  0.030886         0.007397   \n",
       "actor_2_facebook_likes                   0.390487  0.262768         0.270790   \n",
       "imdb_score                               0.076099  0.198021         0.410965   \n",
       "aspect_ratio                            -0.020049  0.069346        -0.014761   \n",
       "movie_facebook_likes                     0.135348  0.378082         0.537924   \n",
       "\n",
       "                           cast_total_facebook_likes  facenumber_in_poster  \\\n",
       "num_critic_for_reviews                      0.263203             -0.033897   \n",
       "duration                                    0.123074              0.013469   \n",
       "director_facebook_likes                     0.119549             -0.041268   \n",
       "actor_3_facebook_likes                      0.473920              0.099368   \n",
       "actor_1_facebook_likes                      0.951661              0.072257   \n",
       "gross                                       0.247400             -0.027755   \n",
       "num_voted_users                             0.265911             -0.026998   \n",
       "cast_total_facebook_likes                   1.000000              0.091475   \n",
       "facenumber_in_poster                        0.091475              1.000000   \n",
       "num_user_for_reviews                        0.206923             -0.069018   \n",
       "budget                                      0.036557             -0.019559   \n",
       "title_year                                  0.109971              0.061504   \n",
       "actor_2_facebook_likes                      0.628404              0.071228   \n",
       "imdb_score                                  0.085787             -0.062958   \n",
       "aspect_ratio                               -0.017885              0.013713   \n",
       "movie_facebook_likes                        0.209786              0.008918   \n",
       "\n",
       "                           num_user_for_reviews    budget  title_year  \\\n",
       "num_critic_for_reviews                 0.609387  0.119994    0.275707   \n",
       "duration                               0.328403  0.074276   -0.135038   \n",
       "director_facebook_likes                0.221890  0.021090   -0.063820   \n",
       "actor_3_facebook_likes                 0.230189  0.047451    0.096137   \n",
       "actor_1_facebook_likes                 0.145461  0.022639    0.086873   \n",
       "gross                                  0.559958  0.102179    0.030886   \n",
       "num_voted_users                        0.798406  0.079621    0.007397   \n",
       "cast_total_facebook_likes              0.206923  0.036557    0.109971   \n",
       "facenumber_in_poster                  -0.069018 -0.019559    0.061504   \n",
       "num_user_for_reviews                   1.000000  0.084292   -0.003147   \n",
       "budget                                 0.084292  1.000000    0.045726   \n",
       "title_year                            -0.003147  0.045726    1.000000   \n",
       "actor_2_facebook_likes                 0.219496  0.044236    0.101890   \n",
       "imdb_score                             0.292475  0.030688   -0.209167   \n",
       "aspect_ratio                          -0.024719  0.006598    0.159973   \n",
       "movie_facebook_likes                   0.400594  0.062039    0.218678   \n",
       "\n",
       "                           actor_2_facebook_likes  imdb_score  aspect_ratio  \\\n",
       "num_critic_for_reviews                   0.282306    0.305303     -0.049786   \n",
       "duration                                 0.131673    0.261662     -0.090071   \n",
       "director_facebook_likes                  0.119601    0.170802      0.001642   \n",
       "actor_3_facebook_likes                   0.559662    0.052633     -0.003366   \n",
       "actor_1_facebook_likes                   0.390487    0.076099     -0.020049   \n",
       "gross                                    0.262768    0.198021      0.069346   \n",
       "num_voted_users                          0.270790    0.410965     -0.014761   \n",
       "cast_total_facebook_likes                0.628404    0.085787     -0.017885   \n",
       "facenumber_in_poster                     0.071228   -0.062958      0.013713   \n",
       "num_user_for_reviews                     0.219496    0.292475     -0.024719   \n",
       "budget                                   0.044236    0.030688      0.006598   \n",
       "title_year                               0.101890   -0.209167      0.159973   \n",
       "actor_2_facebook_likes                   1.000000    0.083808     -0.007783   \n",
       "imdb_score                               0.083808    1.000000      0.059445   \n",
       "aspect_ratio                            -0.007783    0.059445      1.000000   \n",
       "movie_facebook_likes                     0.243487    0.247049      0.025737   \n",
       "\n",
       "                           movie_facebook_likes  \n",
       "num_critic_for_reviews                 0.683176  \n",
       "duration                               0.196605  \n",
       "director_facebook_likes                0.162048  \n",
       "actor_3_facebook_likes                 0.278844  \n",
       "actor_1_facebook_likes                 0.135348  \n",
       "gross                                  0.378082  \n",
       "num_voted_users                        0.537924  \n",
       "cast_total_facebook_likes              0.209786  \n",
       "facenumber_in_poster                   0.008918  \n",
       "num_user_for_reviews                   0.400594  \n",
       "budget                                 0.062039  \n",
       "title_year                             0.218678  \n",
       "actor_2_facebook_likes                 0.243487  \n",
       "imdb_score                             0.247049  \n",
       "aspect_ratio                           0.025737  \n",
       "movie_facebook_likes                   1.000000  "
      ]
     },
     "execution_count": 36,
     "metadata": {},
     "output_type": "execute_result"
    }
   ],
   "source": [
    "df.corr()"
   ]
  },
  {
   "cell_type": "code",
   "execution_count": null,
   "metadata": {
    "collapsed": true
   },
   "outputs": [],
   "source": []
  }
 ],
 "metadata": {
  "kernelspec": {
   "display_name": "Python 3",
   "language": "python",
   "name": "python3"
  },
  "language_info": {
   "codemirror_mode": {
    "name": "ipython",
    "version": 3
   },
   "file_extension": ".py",
   "mimetype": "text/x-python",
   "name": "python",
   "nbconvert_exporter": "python",
   "pygments_lexer": "ipython3",
   "version": "3.6.0"
  }
 },
 "nbformat": 4,
 "nbformat_minor": 2
}
